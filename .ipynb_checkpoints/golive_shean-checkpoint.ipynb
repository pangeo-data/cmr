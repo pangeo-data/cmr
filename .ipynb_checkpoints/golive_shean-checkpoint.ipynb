{
 "cells": [
  {
   "cell_type": "code",
   "execution_count": null,
   "metadata": {},
   "outputs": [],
   "source": [
    "#! /usr/bin/env python\n",
    "\n",
    "import sys\n",
    "import os\n",
    "import numpy as np\n",
    "from osgeo import gdal\n",
    "from pygeotools.lib import iolib,timelib\n",
    "\n",
    "if False:\n",
    "    \n",
    "    # Get the time-series dataset for path 46 row 27 of Landsat 8\n",
    "    wget -r ftp://sidads.colorado.edu/pub/DATASETS/nsidc0710_landsat8_golive_ice_velocity_v1/p046_r027/*nc\n",
    "    parallel 'gdal_translate NETCDF:\"{}\":vv_masked {.}_vv_masked.tif' ::: *nc\n",
    "    parallel './golive_rename.py {}' ::: L8*vv.tif\n",
    "    parallel './golive_rename.py {}' ::: L8*vv_masked.tif\n",
    "\n",
    "    # These lines are running some code while providing a UTM bounding box for Mt. Rainier\n",
    "    make_stack.py -te '577880 5175800 611800 5205050' 2*vv.tif\n",
    "    make_stack.py -te '577880 5175800 611800 5205050' 2*vv_masked.tif\n",
    "    dem_mosaic --median *vv_masked.tif -o vv_masked\n",
    "\n",
    "in_fn = sys.argv[1]\n",
    "#L8_046_027_048_2015_350_2016_033_v1_vv_masked.tif\n",
    "a = in_fn.split('_')\n",
    "dt1 = timelib.doy2dt(int(a[4]), int(a[5]))\n",
    "dt2 = timelib.doy2dt(int(a[6]), int(a[7]))\n",
    "dtc = timelib.center_date(dt1, dt2)\n",
    "ndays = (dt2 - dt1).days\n",
    "out_fn = '%s_%iday_%s-%s_%s' % (dtc.strftime('%Y%m%d'), ndays, dt1.strftime('%Y%m%d'), dt2.strftime('%Y%m%d'), in_fn) \n",
    "print(out_fn)\n",
    "if os.path.exists(out_fn): os.remove(out_fn)\n",
    "os.symlink(in_fn, out_fn)\n",
    "\n",
    "b_ds = gdal.Open(out_fn)\n",
    "b = iolib.ds_getma(b_ds)\n",
    "\n",
    "# threshold for Rainier\n",
    "b_thresh = 1.5\n",
    "b[b > b_thresh] = np.ma.masked\n",
    "out_fn_masked = os.path.splitext(out_fn)[0]+'_filt.tif'\n",
    "iolib.writeGTiff(b,out_fn_masked,b_ds)"
   ]
  }
 ],
 "metadata": {
  "kernelspec": {
   "display_name": "Python [conda root]",
   "language": "python",
   "name": "conda-root-py"
  },
  "language_info": {
   "codemirror_mode": {
    "name": "ipython",
    "version": 3
   },
   "file_extension": ".py",
   "mimetype": "text/x-python",
   "name": "python",
   "nbconvert_exporter": "python",
   "pygments_lexer": "ipython3",
   "version": "3.6.6"
  }
 },
 "nbformat": 4,
 "nbformat_minor": 2
}
