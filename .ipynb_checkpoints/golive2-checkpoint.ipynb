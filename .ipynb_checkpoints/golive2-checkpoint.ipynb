{
 "cells": [
  {
   "cell_type": "markdown",
   "metadata": {},
   "source": [
    "# golive2\n",
    "\n",
    "A continuation of the **golive** Jupyter notebook (keeping **golive** stable).\n",
    "\n",
    "\n",
    "The pre-masked speed 'vv_masked' is the observation of interest: How does it vary over\n",
    "the course of several years? We could begin with some color visualizations...\n",
    "\n",
    "\n",
    "1. For each location where data exist accumulate mean speed and std dev to 're-color' \n",
    "based on relative variability. For example \n",
    "\n",
    "\n",
    "2. Apply some un-supervised clustering algorithm like k-means.\n",
    "\n",
    "\n",
    "Manipulating the xarray DataSet to this end is not trivial; so that's the sub-goal. \n",
    "To take advantage of all the available information I'm pulling all 255 available NetCDF\n",
    "files and concatenating them into a single DataSet. This is contrary to my conventional\n",
    "(antiquated) view of accumulating data by hand in flat arrays.\n",
    "\n",
    "\n",
    "Another question is whether pre-screening is useful before going to the analysis. \n",
    "A careful look at the land/glacier/ocean pixel classification mask *lgo_mask* shows\n",
    "that it varies slightly from one scene to the next; and as noted in the **golive**\n",
    "notebook there are unrealistically high speeds in a small proportion of the locations\n",
    "due to correlation matching errors. Let's start out by ignoring all of that and just\n",
    "sticking with what shows up in vv_masked. \n",
    "\n",
    "\n",
    "By the way any subsequent data screening could also check that vx and vy are \n",
    "consistent. \n"
   ]
  },
  {
   "cell_type": "code",
   "execution_count": 1,
   "metadata": {},
   "outputs": [],
   "source": [
    "# Some Python utility code\n",
    "from pathlib import Path\n",
    "home_d = str(Path.home()) + '/'\n",
    "data_d = home_d + 'data/'             # A non-repository location for datasets of interest\n",
    "\n",
    "def dirobj(obj): return [x for x in dir(obj) if not x.startswith('_')]\n",
    "\n",
    "def lsal(path=''):\n",
    "    import os\n",
    "    return os.popen('ls -al ' + path).readlines()\n",
    "\n",
    "def ShowGitHubImage(username, repo, folder, source, localpath, localname, width, height):\n",
    "    global home_d\n",
    "    import requests, shutil\n",
    "    from PIL import Image\n",
    "    outf = localpath + '/' + localname\n",
    "    f = 'https://raw.githubusercontent.com/' + username + '/' + repo + '/master/' + folder + '/' + source\n",
    "    a = requests.get(f, stream = True)\n",
    "    if a.status_code == 200:\n",
    "        with open(outf, 'wb') as f:\n",
    "            a.raw.decode_content = True\n",
    "            shutil.copyfileobj(a.raw, f)\n",
    "    return Image.open(outf).resize((width,height),Image.ANTIALIAS)\n",
    "\n",
    "def ShowLocalImage(path, filename, width, height):\n",
    "    from PIL import Image\n",
    "    f = path + '/' + filename \n",
    "    return Image.open(f).resize((width,height),Image.ANTIALIAS)\n",
    "\n",
    "# Test either of the 'Show Image' functions\n",
    "# ShowGitHubImage('robfatland', 'othermathclub', 'images/cellular', 'conus_textile_shell_2.png', home_d, 'ctextile.jpg', 450, 250)\n",
    "# ShowLocalImage(home_d, 'ctextile.jpg', 450, 250)"
   ]
  },
  {
   "cell_type": "code",
   "execution_count": 2,
   "metadata": {},
   "outputs": [
    {
     "name": "stdout",
     "output_type": "stream",
     "text": [
      "Collecting utm\n",
      "Installing collected packages: utm\n",
      "Successfully installed utm-0.4.2\n",
      "\u001b[33mYou are using pip version 9.0.1, however version 18.1 is available.\n",
      "You should consider upgrading via the 'pip install --upgrade pip' command.\u001b[0m\n"
     ]
    }
   ],
   "source": [
    "# what we need to get stuff done\n",
    "!pip install utm\n",
    "\n",
    "%matplotlib inline\n",
    "import timeit\n",
    "from matplotlib import pyplot as plt\n",
    "import pandas as pd\n",
    "import netCDF4\n",
    "import xarray as xr\n",
    "from xarray import Dataset\n",
    "import numpy as np\n",
    "from ftplib import FTP\n",
    "import utm"
   ]
  },
  {
   "cell_type": "code",
   "execution_count": 3,
   "metadata": {
    "scrolled": false
   },
   "outputs": [],
   "source": [
    "# file grabbing code... this takes a few minutes \n",
    "golive2_d = data_d + 'golive2/'\n",
    "\n",
    "if False:\n",
    "    ftp = FTP('dtn.rc.colorado.edu')\n",
    "    ftp.login()\n",
    "    ftp.cwd('work/nsidc0710/nsidc0710_landsat8_golive_ice_velocity_v1.1/p063_r018')\n",
    "    a=[]\n",
    "    ftp.dir(a.append)    # This is a rather tricky line of Python as it passes an append method as an argument\n",
    "    d = [b.split()[8] for b in a if len(b.split()) == 9 and b.split()[8][-3:]=='.nc']\n",
    "    for i in range(len(d)):\n",
    "        ftp.retrbinary('RETR ' + d[i], open(golive2_d + d[i], 'wb').write)  \n",
    "        print('obtained file', i)\n",
    "    ftp.quit()\n",
    "    print(len(d))\n",
    "    # for c in d: print(c)"
   ]
  },
  {
   "cell_type": "code",
   "execution_count": 4,
   "metadata": {},
   "outputs": [
    {
     "name": "stdout",
     "output_type": "stream",
     "text": [
      "<class 'str'>\n",
      "2013-05-31T00:00:00\n"
     ]
    },
    {
     "data": {
      "text/plain": [
       "<xarray.Dataset>\n",
       "Dimensions:                                         (chars: 4280, time: 1, x: 803, y: 786)\n",
       "Coordinates:\n",
       "  * x                                               (x) float64 3.373e+05 ...\n",
       "  * y                                               (y) float64 6.779e+06 ...\n",
       "  * chars                                           (chars) int32 0 1 2 3 4 ...\n",
       "  * time                                            (time) datetime64[ns] 2013-05-31 ...\n",
       "Data variables:\n",
       "    image_pair_times                                |S1 ...\n",
       "    input_image_details                             |S1 ...\n",
       "    transverse_mercator                             |S1 ...\n",
       "    offset_correction                               |S1 ...\n",
       "    applied_bilinear_x_offset_correction_in_pixels  (y, x) float32 dask.array<shape=(786, 803), chunksize=(786, 803)>\n",
       "    applied_bilinear_y_offset_correction_in_pixels  (y, x) float32 dask.array<shape=(786, 803), chunksize=(786, 803)>\n",
       "    vx                                              (y, x) float32 dask.array<shape=(786, 803), chunksize=(786, 803)>\n",
       "    vy                                              (y, x) float32 dask.array<shape=(786, 803), chunksize=(786, 803)>\n",
       "    vv                                              (y, x) float32 dask.array<shape=(786, 803), chunksize=(786, 803)>\n",
       "    vx_masked                                       (y, x) float32 dask.array<shape=(786, 803), chunksize=(786, 803)>\n",
       "    vy_masked                                       (y, x) float32 dask.array<shape=(786, 803), chunksize=(786, 803)>\n",
       "    vv_masked                                       (y, x) float32 dask.array<shape=(786, 803), chunksize=(786, 803)>\n",
       "    corr                                            (y, x) float32 dask.array<shape=(786, 803), chunksize=(786, 803)>\n",
       "    del_corr                                        (y, x) float32 dask.array<shape=(786, 803), chunksize=(786, 803)>\n",
       "    lgo_mask                                        (y, x) float32 dask.array<shape=(786, 803), chunksize=(786, 803)>\n",
       "    d2idx2                                          (y, x) float32 dask.array<shape=(786, 803), chunksize=(786, 803)>\n",
       "    d2jdx2                                          (y, x) float32 dask.array<shape=(786, 803), chunksize=(786, 803)>\n",
       "    del_i                                           (y, x) float32 dask.array<shape=(786, 803), chunksize=(786, 803)>\n",
       "    del_j                                           (y, x) float32 dask.array<shape=(786, 803), chunksize=(786, 803)>\n",
       "    processing_log                                  (chars) |S1 dask.array<shape=(4280,), chunksize=(4280,)>\n",
       "Attributes:\n",
       "    GDAL_AREA_OR_POINT:  Area\n",
       "    Conventions:         CF-1.6\n",
       "    history:             2016-11-30T21:02:35.316800 : /projects/makl5454/bin/...\n",
       "    GDAL:                GDAL 2.0.2, released 2016/01/26"
      ]
     },
     "execution_count": 4,
     "metadata": {},
     "output_type": "execute_result"
    }
   ],
   "source": [
    "ds = xr.open_mfdataset(golive2_d + 'L8_063_018_016_2013_143_2013_159_v1.1.nc')\n",
    "# ds1['image_pair_times']\n",
    "# ds1['time'] = xr.Variable('time', ds1['image_pair_times'].attrs['mid_date'])\n",
    "# ds1\n",
    "print(type(ds['image_pair_times'].attrs['mid_date']))\n",
    "print(ds['image_pair_times'].attrs['mid_date'])\n",
    "s = ds['image_pair_times'].attrs['mid_date']\n",
    "ts = pd.Timestamp(s)\n",
    "ds['time'] = xr.Variable('time', [ts])\n",
    "ds"
   ]
  },
  {
   "cell_type": "code",
   "execution_count": 6,
   "metadata": {
    "scrolled": false
   },
   "outputs": [
    {
     "name": "stdout",
     "output_type": "stream",
     "text": [
      "there are 255 files in play\n",
      "CPU times: user 3min 37s, sys: 19.6 s, total: 3min 57s\n",
      "Wall time: 4min 1s\n"
     ]
    }
   ],
   "source": [
    "%%time\n",
    "# Here are various attempts to dispense with the chars/processing_log stuff; but they are not to the point.\n",
    "#   Various attempts to drop of squeeze produced affects; but the issue of sorting the source .nc files\n",
    "#   was related to the need for a sortable dimension which proves to be time.\n",
    "#\n",
    "#ds1\n",
    "#ds1.squeeze('chars', drop=True)\n",
    "#ds1['vv_masked'].sel(x=':', )\n",
    "#del ds1['chars']\n",
    "#ds1 = ds1.sel(x=slice(-1), y=slice(-1))\n",
    "#ds1\n",
    "# def pp(ds1):\n",
    "#     del ds1['processing_log']\n",
    "#     del ds1['chars']\n",
    "#     ds1.rename({'chars':'band'},inplace=True)\n",
    "#     return ds1.assign_coords(band=1)\n",
    "\n",
    "from datetime import timedelta\n",
    "tslist = []\n",
    "\n",
    "def pp(ds):\n",
    "    global tslist\n",
    "    s = ds['image_pair_times'].attrs['mid_date']\n",
    "    ts = pd.Timestamp(s)\n",
    "    while ts in tslist: ts += timedelta(hours = 1)\n",
    "    tslist.append(ts)\n",
    "    ds['time'] = xr.Variable('time', [ts])\n",
    "    return ds\n",
    "\n",
    "m = xr.open_mfdataset(golive2_d + '*.nc', preprocess = pp, decode_cf=False, autoclose=True, concat_dim='time')\n",
    "\n",
    "print('there are', len(tslist), 'files in play')"
   ]
  },
  {
   "cell_type": "code",
   "execution_count": 7,
   "metadata": {},
   "outputs": [
    {
     "name": "stdout",
     "output_type": "stream",
     "text": [
      "<xarray.Dataset>\n",
      "Dimensions:                                         (chars: 4534, time: 255, x: 840, y: 829)\n",
      "Coordinates:\n",
      "  * chars                                           (chars) int64 0 1 2 3 4 ...\n",
      "  * time                                            (time) datetime64[ns] 2013-05-07 ...\n",
      "  * x                                               (x) float64 3.325e+05 ...\n",
      "  * y                                               (y) float64 6.537e+06 ...\n",
      "Data variables:\n",
      "    image_pair_times                                (time) object b'' b'' ...\n",
      "    input_image_details                             (time) object b'' b'' ...\n",
      "    transverse_mercator                             (time) object b'' b'' ...\n",
      "    offset_correction                               (time) object b'' b'' ...\n",
      "    applied_bilinear_x_offset_correction_in_pixels  (time, y, x) float32 dask.array<shape=(255, 829, 840), chunksize=(1, 829, 840)>\n",
      "    applied_bilinear_y_offset_correction_in_pixels  (time, y, x) float32 dask.array<shape=(255, 829, 840), chunksize=(1, 829, 840)>\n",
      "    vx                                              (time, y, x) float32 dask.array<shape=(255, 829, 840), chunksize=(1, 829, 840)>\n",
      "    vy                                              (time, y, x) float32 dask.array<shape=(255, 829, 840), chunksize=(1, 829, 840)>\n",
      "    vv                                              (time, y, x) float32 dask.array<shape=(255, 829, 840), chunksize=(1, 829, 840)>\n",
      "    vx_masked                                       (time, y, x) float32 dask.array<shape=(255, 829, 840), chunksize=(1, 829, 840)>\n",
      "    vy_masked                                       (time, y, x) float32 dask.array<shape=(255, 829, 840), chunksize=(1, 829, 840)>\n",
      "    vv_masked                                       (time, y, x) float32 dask.array<shape=(255, 829, 840), chunksize=(1, 829, 840)>\n",
      "    corr                                            (time, y, x) float32 dask.array<shape=(255, 829, 840), chunksize=(1, 829, 840)>\n",
      "    del_corr                                        (time, y, x) float32 dask.array<shape=(255, 829, 840), chunksize=(1, 829, 840)>\n",
      "    lgo_mask                                        (time, y, x) float64 dask.array<shape=(255, 829, 840), chunksize=(1, 829, 840)>\n",
      "    d2idx2                                          (time, y, x) float32 dask.array<shape=(255, 829, 840), chunksize=(1, 829, 840)>\n",
      "    d2jdx2                                          (time, y, x) float32 dask.array<shape=(255, 829, 840), chunksize=(1, 829, 840)>\n",
      "    del_i                                           (time, y, x) float32 dask.array<shape=(255, 829, 840), chunksize=(1, 829, 840)>\n",
      "    del_j                                           (time, y, x) float32 dask.array<shape=(255, 829, 840), chunksize=(1, 829, 840)>\n",
      "    processing_log                                  (time, chars) object dask.array<shape=(255, 4534), chunksize=(1, 4534)>\n",
      "Attributes:\n",
      "    GDAL_AREA_OR_POINT:  Area\n",
      "    Conventions:         CF-1.6\n",
      "    history:             2016-11-30T21:02:35.316800 : /projects/makl5454/bin/...\n",
      "    GDAL:                GDAL 2.0.2, released 2016/01/26\n",
      "255\n"
     ]
    },
    {
     "data": {
      "text/plain": [
       "numpy.datetime64('2017-08-22T00:00:00.000000000')"
      ]
     },
     "execution_count": 7,
     "metadata": {},
     "output_type": "execute_result"
    }
   ],
   "source": [
    "print(m)\n",
    "print(len(m['time']))\n",
    "# print(m['image_pair_times'])\n",
    "m['image_pair_times'].time.values[200]"
   ]
  },
  {
   "cell_type": "markdown",
   "metadata": {},
   "source": [
    "#### Roadmap\n",
    "\n",
    "\n",
    "Above this point we have created a large xarray DataSet called ```m``` which includes a time axis with 255 entries. \n",
    "These span the full time range of what is available for GOLIVE path 63 row 18. \n",
    "\n",
    "\n",
    "Next we revisit the four transects of Seward Glacier, a medium-sized glacier feeding the Malaspina piedmont lobe.\n",
    "The idea is to populate a 255-element time-series graph of ice speed at the center of each of the four transects.\n",
    "\n",
    "\n",
    "Once that is done -- with timing noted -- we can turn to analyzing the entire dataset. "
   ]
  },
  {
   "cell_type": "code",
   "execution_count": 8,
   "metadata": {},
   "outputs": [
    {
     "name": "stdout",
     "output_type": "stream",
     "text": [
      "[(3144.1744930562563, -2758.1968929581344), (5233.141818051343, -482.24623928405344), (3716.5123229203746, -2071.6535719921812), (6518.903660722659, -2628.9233719613403)] \n",
      "\n",
      "[4182.521170670804, 5255.314902376576, 4254.904507596729, 7029.03571149186] \n",
      "\n",
      "[array([ 75.17414413, -65.94579634]), array([99.57808267, -9.17635286]), array([ 87.3465507 , -48.68860319]), array([ 92.74250307, -37.40091073])] \n",
      "\n",
      "[42, 53, 43, 71] \n",
      "\n"
     ]
    }
   ],
   "source": [
    "# Endpoints determined off of a map representing four lateral transects of Seward glacier\n",
    "ends = []\n",
    "\n",
    "ends.append(((60.104166,-140.478055),(60.079166,-140.421944)))\n",
    "ends.append(((60.150833,-140.494444),(60.14611,-140.400277)))\n",
    "ends.append(((60.189722,-140.456388),(60.17083,-140.389722)))\n",
    "ends.append(((60.242222,-140.417500),(60.21805,-140.300277)))\n",
    "\n",
    "nTransects = len(ends)\n",
    "\n",
    "utm0, utm1 = [], []\n",
    "for i in range(nTransects):\n",
    "    utm0.append(utm.from_latlon(ends[i][0][0],ends[i][0][1]))     # 4-plets\n",
    "    utm1.append(utm.from_latlon(ends[i][1][0],ends[i][1][1]))\n",
    "\n",
    "from numpy.linalg import norm\n",
    "posting = 100.                         # meters\n",
    "\n",
    "# The following lists have index across the various transects\n",
    "transects = [(utm1[i][0]-utm0[i][0], utm1[i][1]-utm0[i][1]) for i in range(nTransects)]   # single vector spanning the transect\n",
    "lengths = [norm(transects[i]) for i in range(nTransects)]                                 # lengths of those vectors\n",
    "relative_postings = [transects[i]/lengths[i]*posting for i in range(nTransects)]          # a single 'posting vector' (hop)\n",
    "number_of_postings = [int(lengths[i]/posting) + 1 for i in range(nTransects)]               # number of postings in the transect\n",
    "\n",
    "\n",
    "print(transects, '\\n')\n",
    "print(lengths, '\\n')\n",
    "print(relative_postings, '\\n')\n",
    "print(number_of_postings, '\\n')"
   ]
  },
  {
   "cell_type": "code",
   "execution_count": 9,
   "metadata": {},
   "outputs": [
    {
     "name": "stdout",
     "output_type": "stream",
     "text": [
      "<xarray.DataArray 'time' (time: 255)>\n",
      "array(['2013-05-07T00:00:00.000000000', '2013-05-15T00:00:00.000000000',\n",
      "       '2013-05-23T00:00:00.000000000', ..., '2018-08-25T01:00:00.000000000',\n",
      "       '2018-09-02T00:00:00.000000000', '2018-09-18T00:00:00.000000000'],\n",
      "      dtype='datetime64[ns]')\n",
      "Coordinates:\n",
      "  * time     (time) datetime64[ns] 2013-05-07 2013-05-15 2013-05-23 ...\n"
     ]
    }
   ],
   "source": [
    "# print(m['time'].values) creates a one-element list of dates in string quotes with no delimiters; not useful\n",
    "print(m['time'])             # a 255-element list (DataArray) of datetime64 values"
   ]
  },
  {
   "cell_type": "code",
   "execution_count": 10,
   "metadata": {},
   "outputs": [],
   "source": [
    "# This demonstrates in the case of 'x' that time is selected as an array with 255 values...\n",
    "#   whereas y is speed selected using a particular location; and therefore (as time was not stipulated)\n",
    "#   is a time-series array of speed values\n",
    "\n",
    "if False:\n",
    "    # (xMid, yMid) are UTM coordinates of the mid-point of the four generated transects \n",
    "    xMid = utm0[0][0] + (number_of_postings[0]/2.)*relative_postings[0][0]    # These must start at utm0 and add a certain \n",
    "    yMid = utm0[0][1] + (number_of_postings[0]/2.)*relative_postings[0][1]    #   number of the relative_postings vectors\n",
    "\n",
    "    # This was a precursor model of how to produce scatter plots\n",
    "    x = m['time']\n",
    "    y = m['vv_masked'].sel(y=yMid,x=xMid,method='nearest').values      \n",
    "\n",
    "    print(x, y)\n",
    "        "
   ]
  },
  {
   "cell_type": "code",
   "execution_count": 11,
   "metadata": {},
   "outputs": [
    {
     "name": "stdout",
     "output_type": "stream",
     "text": [
      "CPU times: user 49.8 s, sys: 5.2 s, total: 55 s\n",
      "Wall time: 55.2 s\n"
     ]
    },
    {
     "data": {
      "image/png": "[encoded data removed]",
      "text/plain": [
       "<Figure size 576x864 with 4 Axes>"
      ]
     },
     "metadata": {},
     "output_type": "display_data"
    }
   ],
   "source": [
    "%%time\n",
    "\n",
    "# Create time-series plots for speeds at the centers of the above four respective lateral transects\n",
    "\n",
    "# Remember that n16s is how many 16-day-interval results we have; and these are m[0], ..., m[n16s - 1]\n",
    "maxSpeed = 8.\n",
    "colorsequence = ['red', 'orange', 'green', 'cyan']\n",
    "fig,axes = plt.subplots(nTransects)\n",
    "fig.set_size_inches(8,12)\n",
    "for i in range(nTransects): axes[i].set(ylim=(0., maxSpeed), xlabel='time series', ylabel = 'm / d')\n",
    "# plt.subplots_adjust(hspace=0.6)\n",
    "\n",
    "for t in range(nTransects): \n",
    "    xMid = utm0[t][0] + (number_of_postings[t]/2.)*relative_postings[t][0]    # These must start at utm0 and add a certain \n",
    "    yMid = utm0[t][1] + (number_of_postings[t]/2.)*relative_postings[t][1]    #   number of the relative_postings vectors\n",
    "    x = m['time']\n",
    "    y = m['vv_masked'].sel(y=yMid,x=xMid,method='nearest').values \n",
    "    axes[t].plot(x, y, 'o', color=colorsequence[t])\n",
    "        "
   ]
  },
  {
   "cell_type": "code",
   "execution_count": 12,
   "metadata": {},
   "outputs": [],
   "source": [
    "# This cell establishes that the lgo_mask DataArray changes from one data result to another\n",
    "if False:\n",
    "    xice = 702\n",
    "    yice = 402\n",
    "    for i in range(10):\n",
    "        lgoval = lgo.isel(y=yice,x=xice,time=i).values\n",
    "        vvval = vv.isel(y=yice,x=xice,time=i).values\n",
    "        corrval = corr.isel(y=yice,x=xice,time=i).values\n",
    "        northval = north.isel(y=yice).values\n",
    "        eastval = east.isel(x=xice).values\n",
    "        print(lgoval, vvval, corrval, northval, eastval)"
   ]
  },
  {
   "cell_type": "code",
   "execution_count": 13,
   "metadata": {},
   "outputs": [],
   "source": [
    "# Establish that the lgo_mask (land / glacier / ocean) varies from one result to another somewhat\n",
    "# This makes it intrinsically more difficult to settle on a set of for-sure-this-is-moving-ice pixels\n",
    "if False:\n",
    "    lgo=m['lgo_mask']\n",
    "    fig,axes = plt.subplots(1, 2)\n",
    "    lgo.isel(time=5).plot(ax=axes[0])\n",
    "    lgo.isel(time=6).plot(ax=axes[1])\n",
    "    fig.set_size_inches(18,8)\n",
    "    axes[0].set(xlim=(480000,570000),ylim=(6630000,6694000))\n",
    "    axes[1].set(xlim=(480000,570000),ylim=(6630000,6694000))"
   ]
  },
  {
   "cell_type": "code",
   "execution_count": 20,
   "metadata": {},
   "outputs": [
    {
     "name": "stdout",
     "output_type": "stream",
     "text": [
      "1.6596168279647827e-06\n",
      "CPU times: user 487 µs, sys: 45 µs, total: 532 µs\n",
      "Wall time: 544 µs\n"
     ]
    }
   ],
   "source": [
    "%%time\n",
    "\n",
    "# prints time used when the cell is done running\n",
    "\n",
    "# use the timer to ingest this time into a program...\n",
    "\n",
    "start_time = timeit.default_timer()\n",
    "\n",
    "# Here we average time series mask values (0 for ice, 1 for land) across time-series using values.mean()\n",
    "if False:\n",
    "    for j in range(401,403):\n",
    "        for i in range(701,703):\n",
    "            print(lgo.isel(y=j,x=i).values.mean())\n",
    "\n",
    "# ...as here the time interval comes programmatically off the timer\n",
    "print(timeit.default_timer() - start_time)\n"
   ]
  },
  {
   "cell_type": "code",
   "execution_count": 21,
   "metadata": {},
   "outputs": [],
   "source": [
    "# More analysis of the lgo mask using isel to demonstrate 'select by integer index' rather than by dictionary values\n",
    "\n",
    "if False:\n",
    "    count = 0\n",
    "    # for q in m[]\n",
    "    for j in range(829):\n",
    "        for i in range(840):\n",
    "            meanlgo = lgo.isel(y=j,x=i).mean()\n",
    "            if meanlgo < 0.1:\n",
    "                print('found ice at', i, j, 'with zeroness', meanlgo)\n",
    "                count += 1\n",
    "            if count > 10: break\n",
    "        if count > 10: break  "
   ]
  },
  {
   "cell_type": "markdown",
   "metadata": {},
   "source": [
    "### Part 3 Analyze everything\n",
    "\n",
    "#### 3.1 Analyze one pixel really carefully\n",
    "\n",
    "\n",
    "What to observe? Let's simplify (at least conceptually) by considering this question for just\n",
    "one location in the DataSet.\n",
    "\n",
    "\n",
    "Procedural for 3.1\n",
    "\n",
    "\n",
    "* Select a UTM coordinate pair from the transects (center of first transect in fact)\n",
    "* Obtain its integer indices\n",
    "* Verify that both coordinate and integer indexing produce the same 255-element ndarray\n",
    "  * We find that the subset of the DataArray is itself a DataArray...\n",
    "  * ...but the .values extraction is a numpy ndarray, an immutable vector...\n",
    "  * ...that looks like a list without commas, supports a number of vector methods and so on\n",
    "* Verify this contains no-data values -9999.\n",
    "* Use the intrinsic .mean() method to get the mean ignoring the -9999 values\n",
    "  * compare this by hand with a numpy .mean() method\n",
    "* use numpy .std() standard deviation to obtain that\n",
    "  * Again it is worth verifying everything works once\n",
    "* How many good data values out of 255?\n",
    "* How many lgo == 0 here? (0 meaning 'glacier' in the mask)\n",
    "* See that an entire vector of -9999. is handled gracefully"
   ]
  },
  {
   "cell_type": "code",
   "execution_count": 22,
   "metadata": {},
   "outputs": [
    {
     "name": "stdout",
     "output_type": "stream",
     "text": [
      "UTM of point of interest is 530599.7680965028 6661741.749429959 as easting - northing\n",
      "\n",
      "CPU times: user 12.5 s, sys: 1.15 s, total: 13.7 s\n",
      "Wall time: 13.7 s\n"
     ]
    }
   ],
   "source": [
    "%%time\n",
    "\n",
    "lgo = m['lgo_mask']\n",
    "vv = m['vv_masked']\n",
    "\n",
    "# Use the mid-point of the lower transect, the one closest to Malaspina\n",
    "xMid = utm0[0][0] + (number_of_postings[0]/2.)*relative_postings[0][0]    # These must start at utm0 and add a certain \n",
    "yMid = utm0[0][1] + (number_of_postings[0]/2.)*relative_postings[0][1]    #   number of the relative_postings vectors\n",
    "\n",
    "print('UTM of point of interest is', xMid, yMid, 'as easting - northing\\n')\n",
    "\n",
    "if True:\n",
    "    s = vv.sel(x=xMid,y=yMid,method='nearest')\n",
    "    ss = s.where(s.values >= 0.)"
   ]
  },
  {
   "cell_type": "code",
   "execution_count": 25,
   "metadata": {},
   "outputs": [
    {
     "name": "stdout",
     "output_type": "stream",
     "text": [
      "[6.5500283       nan       nan 7.1970596 7.3413606 7.547486        nan\n",
      "       nan       nan       nan       nan 3.4546468 3.1661203       nan\n",
      "       nan 3.7422018 3.9196432 4.0369534       nan       nan 4.189258\n",
      " 4.3555264       nan       nan 4.273373  4.870494        nan       nan\n",
      " 4.5576363       nan 4.509481  4.140312        nan 4.453155  4.2484126\n",
      "       nan 4.4770308 4.2970953 4.480956  4.545102        nan       nan\n",
      "       nan       nan       nan       nan       nan       nan       nan\n",
      "       nan       nan       nan 3.77171         nan       nan       nan\n",
      "       nan       nan       nan       nan       nan       nan       nan\n",
      " 3.504343        nan       nan 3.5247257       nan       nan       nan\n",
      "       nan       nan       nan 4.064262        nan       nan       nan\n",
      "       nan       nan       nan       nan       nan       nan 4.5550756\n",
      "       nan       nan       nan 4.5255804       nan 4.6198177       nan\n",
      "       nan       nan       nan       nan       nan       nan       nan\n",
      "       nan       nan       nan 5.7686663 5.488884  5.29261         nan\n",
      "       nan       nan       nan       nan       nan       nan       nan\n",
      "       nan       nan 3.1902246       nan       nan       nan       nan\n",
      "       nan       nan 3.1681569       nan       nan       nan       nan\n",
      "       nan       nan       nan 2.5430036       nan 2.5980344       nan\n",
      "       nan       nan 2.9187362       nan       nan       nan       nan\n",
      "       nan       nan       nan 3.4777493       nan       nan 3.67036\n",
      " 3.5508842       nan 3.75099   3.6583254       nan       nan 3.8166296\n",
      "       nan       nan 3.9383478       nan 4.127836  4.378901        nan\n",
      "       nan       nan       nan       nan       nan 5.4942083 5.6141324\n",
      " 5.705664        nan       nan 4.900839        nan       nan 2.6756804\n",
      " 3.08866   3.3218975 3.2063239       nan 3.259927  3.5288517       nan\n",
      "       nan 3.606438  3.6090655       nan       nan       nan       nan\n",
      "       nan       nan       nan 4.2590227 4.4861965       nan       nan\n",
      " 5.1621904       nan 4.6866207       nan       nan       nan 3.7589922\n",
      "       nan       nan       nan 3.7260458       nan       nan 3.1062102\n",
      " 2.901418        nan       nan 3.3519073       nan       nan       nan\n",
      "       nan       nan 3.9458804       nan       nan 3.8184097       nan\n",
      " 3.8757217 3.7131414       nan 3.7100203       nan       nan 3.6474748\n",
      "       nan       nan 3.8422835       nan 4.162077        nan       nan\n",
      "       nan       nan       nan       nan       nan       nan       nan\n",
      "       nan       nan       nan       nan 3.4899435       nan       nan\n",
      " 3.3157597       nan 2.7503073]\n",
      "\n",
      "\n"
     ]
    }
   ],
   "source": [
    "# this works: prints speeds as an array (not a list; no commas): has type numpy.ndarray\n",
    "# print(s.values)\n",
    "\n",
    "# this works to describe s as a DataArray\n",
    "# print(s)\n",
    "# s.plot()\n",
    "\n",
    "\n",
    "# this works where nan is substituted for the no-data value of -9999.\n",
    "# print(ss.values)\n",
    "\n",
    "# this works to print a mean of 4.127929\n",
    "# print(ss.mean(skipna=True).values)\n",
    "\n",
    "# this works to operate on a list\n",
    "# print(np.std([1., 2., 3.]))\n",
    "\n",
    "sss = ss.values\n",
    "print(sss)\n",
    "\n",
    "# print(np.std(ss))\n",
    "# print(s.values.where(s.values >= 0.))\n",
    "# print(s.values.mean())\n",
    "# print(s.x, '\\n')\n",
    "# print(s, '\\n')\n",
    "# print(s.masking_info, '\\n')\n",
    "# print(s['time'])\n",
    "# dirobj(s)\n",
    "# print('\\n')\n",
    "# print('\\n')\n",
    "# dirobj(s.x)\n",
    "print('\\n')"
   ]
  },
  {
   "cell_type": "code",
   "execution_count": 28,
   "metadata": {},
   "outputs": [
    {
     "name": "stdout",
     "output_type": "stream",
     "text": [
      "<class 'numpy.ndarray'>\n"
     ]
    }
   ],
   "source": [
    "print(type(sss))"
   ]
  },
  {
   "cell_type": "code",
   "execution_count": 30,
   "metadata": {},
   "outputs": [
    {
     "name": "stdout",
     "output_type": "stream",
     "text": [
      "4.1279287\n",
      "1.0109311\n"
     ]
    }
   ],
   "source": [
    "# sss has methods mean and std\n",
    "# prior working .mean() produced 4.127929...\n",
    "print(sss[~np.isnan(sss)].mean())\n",
    "print(sss[~np.isnan(sss)].std())"
   ]
  },
  {
   "cell_type": "code",
   "execution_count": null,
   "metadata": {},
   "outputs": [],
   "source": [
    "# Aggregate normed speeds everywhere\n",
    "\n",
    "maxNormedSpeed = 2.\n",
    "colorsequence = ['red', 'orange', 'green', 'cyan', 'blue']  # blue 0 - 1, cyan 1 - 2, greeen 2 - 3, orange 3 - 4, red 4+\n",
    "thresholds = [1.0, 2.0, 3.0, 4.0]\n",
    "nPlots = len(thresholds) + 1\n",
    "fig,axes = plt.subplots(nPlots)\n",
    "fig.set_size_inches(8,16)\n",
    "for i in range(nPlots): axes[i].set(ylim=(0., maxNormedSpeed), xlabel='time series', ylabel = 'm / d')\n",
    "# plt.subplots_adjust(hspace=0.6)\n",
    "\n",
    "\n",
    "# xMid = utm0[t][0] + (number_of_postings[t]/2.)*relative_postings[t][0]    # These must start at utm0 and add a certain \n",
    "# yMid = utm0[t][1] + (number_of_postings[t]/2.)*relative_postings[t][1]    #   number of the relative_postings vectors\n",
    "# x = m['time']\n",
    "# y = m['vv_masked'].sel(y=yMid,x=xMid,method='nearest').values \n",
    "\n",
    "x = np.arange(0.0, 30.0, 0.025)\n",
    "y = np.sin(x) + 1\n",
    "for i in range(nPlots): axes[i].plot(x, y, ',', color=colorsequence[i])"
   ]
  },
  {
   "cell_type": "code",
   "execution_count": null,
   "metadata": {},
   "outputs": [],
   "source": []
  },
  {
   "cell_type": "code",
   "execution_count": null,
   "metadata": {},
   "outputs": [],
   "source": []
  }
 ],
 "metadata": {
  "kernelspec": {
   "display_name": "Python [conda root]",
   "language": "python",
   "name": "conda-root-py"
  },
  "language_info": {
   "codemirror_mode": {
    "name": "ipython",
    "version": 3
   },
   "file_extension": ".py",
   "mimetype": "text/x-python",
   "name": "python",
   "nbconvert_exporter": "python",
   "pygments_lexer": "ipython3",
   "version": "3.6.6"
  }
 },
 "nbformat": 4,
 "nbformat_minor": 2
}
