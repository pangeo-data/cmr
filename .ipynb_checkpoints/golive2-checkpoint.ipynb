{
 "cells": [
  {
   "cell_type": "markdown",
   "metadata": {},
   "source": [
    "# golive2\n",
    "\n",
    "A continuation of the **golive** Jupyter notebook so as to leave it static-functional. \n",
    "\n",
    "\n",
    "The pre-masked speed 'vv_masked' is the observation of interest: How does it vary over\n",
    "the course of several years? I can think of a couple 'color vis' approaches without much thought:\n",
    "\n",
    "1. Empirical: For each location and across annual time bins (say 1/10th of a year) accumulate \n",
    "mean speed and std dev with the idea of 're-coloring' everything by std dev / mean or for a given \n",
    "time using speed / mean speed. (Is this 'frequentist'?)\n",
    "\n",
    "2. Treat each location + time series as a vector and apply a clustering algorithm like k-means.\n",
    "(Is this 'bayesian'?)\n",
    "\n",
    "\n",
    "In any even the first question (in accumulating these data) is: Do we generate a 2D array of lists\n",
    "that accumulate from each dataset? Or do we go with time built-in as a third dimension?  Each \n",
    "addition is from a pixel from the 819 (easting) x 828 (northing) grid; and at a certain mean-day; \n",
    "and with a particular L8 time interval (16, 32, 48, 64, 80). \n",
    "\n",
    "\n",
    "accumulator(x, y) += (t, dt, vx, vy, vv, corr, del_corr) \n",
    "\n",
    "\n",
    "Some screening on ingest: using lgo_mask and an ad hoc thresold on maximum speed.\n",
    "\n",
    "\n",
    "Post-hoc screening: vx, vy consistent with other observations \n"
   ]
  },
  {
   "cell_type": "code",
   "execution_count": 33,
   "metadata": {},
   "outputs": [],
   "source": [
    "# Some Python utility code\n",
    "from pathlib import Path\n",
    "home_d = str(Path.home()) + '/'\n",
    "data_d = home_d + 'data/'             # A non-repository location for datasets of interest\n",
    "\n",
    "def dirobj(obj): return [x for x in dir(obj) if not x.startswith('_')]\n",
    "\n",
    "def lsal(path=''):\n",
    "    import os\n",
    "    return os.popen('ls -al ' + path).readlines()\n",
    "\n",
    "def ShowGitHubImage(username, repo, folder, source, localpath, localname, width, height):\n",
    "    global home_d\n",
    "    import requests, shutil\n",
    "    from PIL import Image\n",
    "    outf = localpath + '/' + localname\n",
    "    f = 'https://raw.githubusercontent.com/' + username + '/' + repo + '/master/' + folder + '/' + source\n",
    "    a = requests.get(f, stream = True)\n",
    "    if a.status_code == 200:\n",
    "        with open(outf, 'wb') as f:\n",
    "            a.raw.decode_content = True\n",
    "            shutil.copyfileobj(a.raw, f)\n",
    "    return Image.open(outf).resize((width,height),Image.ANTIALIAS)\n",
    "\n",
    "def ShowLocalImage(path, filename, width, height):\n",
    "    from PIL import Image\n",
    "    f = path + '/' + filename \n",
    "    return Image.open(f).resize((width,height),Image.ANTIALIAS)\n",
    "\n",
    "# Test either of the 'Show Image' functions\n",
    "# ShowGitHubImage('robfatland', 'othermathclub', 'images/cellular', 'conus_textile_shell_2.png', home_d, 'ctextile.jpg', 450, 250)\n",
    "# ShowLocalImage(home_d, 'ctextile.jpg', 450, 250)"
   ]
  },
  {
   "cell_type": "code",
   "execution_count": 34,
   "metadata": {},
   "outputs": [
    {
     "name": "stdout",
     "output_type": "stream",
     "text": [
      "Requirement already satisfied: utm in /opt/conda/lib/python3.6/site-packages\n",
      "\u001b[33mYou are using pip version 9.0.1, however version 18.1 is available.\n",
      "You should consider upgrading via the 'pip install --upgrade pip' command.\u001b[0m\n"
     ]
    }
   ],
   "source": [
    "# what we need to get stuff done\n",
    "!pip install utm\n",
    "\n",
    "%matplotlib inline\n",
    "from matplotlib import pyplot as plt\n",
    "import pandas as pd\n",
    "import netCDF4\n",
    "import xarray as xr\n",
    "from xarray import Dataset\n",
    "import numpy as np\n",
    "from ftplib import FTP\n",
    "import utm"
   ]
  },
  {
   "cell_type": "code",
   "execution_count": 43,
   "metadata": {
    "scrolled": false
   },
   "outputs": [
    {
     "name": "stdout",
     "output_type": "stream",
     "text": [
      "255\n"
     ]
    }
   ],
   "source": [
    "# file grabbing code... this seems to work 'every other time' as if the hang-up is a bit wonky\n",
    "golive_d = data_d + 'golive2/'\n",
    "ftp = FTP('dtn.rc.colorado.edu')\n",
    "ftp.login()\n",
    "ftp.cwd('work/nsidc0710/nsidc0710_landsat8_golive_ice_velocity_v1.1/p063_r018')\n",
    "a=[]\n",
    "ftp.dir(a.append)    # This is a rather tricky line of Python as it passes an append method as an argument\n",
    "d = [b.split()[8] for b in a if len(b.split()) == 9 and b.split()[8][-3:]=='.nc']\n",
    "# ftp.retrbinary('RETR ' + fileWeWant, open(golive_d + fileWeWant, 'wb').write)  \n",
    "ftp.quit()\n",
    "print(len(d))\n",
    "# for c in d: print(c)"
   ]
  },
  {
   "cell_type": "code",
   "execution_count": 44,
   "metadata": {},
   "outputs": [],
   "source": [
    "# accumulates a list of downloaded files; not the intended approach here so this cell is disabled\n",
    "if False:\n",
    "    fl = lsal(golive_d)\n",
    "    fnc, fpng, ftif, dur, year, doy = [],[],[],[],[],[]\n",
    "    for x in fl:\n",
    "        sp = x.strip().split()\n",
    "        if len(sp) == 9:\n",
    "            if sp[8][-3:] == '.nc': \n",
    "                fnc.append(golive_d + sp[8])\n",
    "                dur.append(int(fnc[-1].split('_')[3]))\n",
    "                year.append(int(fnc[-1].split('_')[4]))\n",
    "                doy.append(int(fnc[-1].split('_')[5]))\n",
    "            elif sp[8][-4:] == '.png': fpng.append(golive_d + sp[8])\n",
    "            elif sp[8][-4:] == '.tif':ftif.append(golive_d + sp[8])"
   ]
  },
  {
   "cell_type": "code",
   "execution_count": 45,
   "metadata": {},
   "outputs": [
    {
     "name": "stdout",
     "output_type": "stream",
     "text": [
      "L8_063_018_016_2013_143_2013_159_v1.1.nc\n"
     ]
    }
   ],
   "source": [
    "print(d[0])"
   ]
  },
  {
   "cell_type": "code",
   "execution_count": 46,
   "metadata": {},
   "outputs": [],
   "source": [
    "def GetNetCDFFile(folder, file):\n",
    "    ftp = FTP('dtn.rc.colorado.edu')\n",
    "    ftp.login()\n",
    "    ftp.cwd('work/nsidc0710/nsidc0710_landsat8_golive_ice_velocity_v1.1/p063_r018')\n",
    "    ftp.retrbinary('RETR ' + file, open(golive_d + file, 'wb').write)\n",
    "    ftp.quit()\n",
    "    return\n",
    "\n",
    "nsidc_d = 'work/nsidc0710/nsidc0710_landsat8_golive_ice_velocity_v1.1/p063_r018'\n",
    "\n",
    "for i in range(1):\n",
    "    # This works so we'll just leave the file there for now: GetNetCDFFile(nsidc_d, d[i])\n",
    "    m = xr.open_mfdataset(golive_d + d[i])\n"
   ]
  },
  {
   "cell_type": "code",
   "execution_count": 47,
   "metadata": {},
   "outputs": [
    {
     "data": {
      "text/plain": [
       "('16.0', '2013.4109589')"
      ]
     },
     "execution_count": 47,
     "metadata": {},
     "output_type": "execute_result"
    }
   ],
   "source": [
    "# print(m['image_pair_times'])\n",
    "m['image_pair_times'].del_t, m['image_pair_times'].mid_time_decimal_year"
   ]
  },
  {
   "cell_type": "code",
   "execution_count": 48,
   "metadata": {},
   "outputs": [],
   "source": [
    "vxm = m.vx_masked\n",
    "vym = m.vy_masked\n",
    "vvm = m.vv_masked\n",
    "corr = m.corr\n",
    "dcorr = m.del_corr"
   ]
  },
  {
   "cell_type": "code",
   "execution_count": 49,
   "metadata": {},
   "outputs": [],
   "source": [
    "# This is Cargo Cult; but http://xarray.pydata.org/en/stable/examples/quick-overview.html#create-a-dataarray is a set\n",
    "#   of helpful incremental examples\n",
    "\n",
    "ds=Dataset(data_vars={'acc': '(y, x) float32 dask.array<shape=(828, 819), chunksize=(828, 819)>'}, \\\n",
    "           coords={'* x': 'x yeah', '* y': 'y yeah'}, attrs={'spongy': 'yes'}, compat='broadcast_equals')"
   ]
  },
  {
   "cell_type": "code",
   "execution_count": 50,
   "metadata": {},
   "outputs": [
    {
     "data": {
      "text/plain": [
       "<xarray.Dataset>\n",
       "Dimensions:  ()\n",
       "Coordinates:\n",
       "    * x      <U6 'x yeah'\n",
       "    * y      <U6 'y yeah'\n",
       "Data variables:\n",
       "    acc      <U65 '(y, x) float32 dask.array<shape=(828, 819), chunksize=(828, 819)>' ...\n",
       "Attributes:\n",
       "    spongy:   yes"
      ]
     },
     "execution_count": 50,
     "metadata": {},
     "output_type": "execute_result"
    }
   ],
   "source": [
    "ds"
   ]
  }
 ],
 "metadata": {
  "kernelspec": {
   "display_name": "Python [conda root]",
   "language": "python",
   "name": "conda-root-py"
  },
  "language_info": {
   "codemirror_mode": {
    "name": "ipython",
    "version": 3
   },
   "file_extension": ".py",
   "mimetype": "text/x-python",
   "name": "python",
   "nbconvert_exporter": "python",
   "pygments_lexer": "ipython3",
   "version": "3.6.6"
  }
 },
 "nbformat": 4,
 "nbformat_minor": 2
}
