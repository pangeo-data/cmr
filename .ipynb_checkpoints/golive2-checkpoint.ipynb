{
 "cells": [
  {
   "cell_type": "markdown",
   "metadata": {},
   "source": [
    "# golive2\n",
    "\n",
    "A continuation of the **golive** Jupyter notebook (keeping it stable).\n",
    "\n",
    "\n",
    "The pre-masked speed 'vv_masked' is the observation of interest: How does it vary over\n",
    "the course of several years? I can think of a couple 'color vis' approaches without much thought:\n",
    "\n",
    "\n",
    "1. Empirical: For each location and across annual time bins (say 1/10th of a year) accumulate \n",
    "mean speed and std dev with the idea of 're-coloring' everything by std dev / mean or for a given \n",
    "time using speed / mean speed. (Is this 'frequentist'?)\n",
    "\n",
    "\n",
    "2. Treat each location + time series as a vector and apply a clustering algorithm like k-means.\n",
    "(Is this 'bayesian'?)\n",
    "\n",
    "\n",
    "Accumulating these data is most easily done using the xarray \n",
    "\n",
    "\n",
    ": Do we generate a 2D array of lists\n",
    "that accumulate from each dataset? Or do we go with time built-in as a third dimension?  Each \n",
    "addition is from a pixel from the 819 (easting) x 828 (northing) grid; and at a certain mean-day; \n",
    "and with a particular L8 time interval (16, 32, 48, 64, 80). \n",
    "\n",
    "\n",
    "accumulator(x, y) += (t, dt, vx, vy, vv, corr, del_corr) \n",
    "\n",
    "\n",
    "Some screening on ingest: using lgo_mask and an ad hoc thresold on maximum speed.\n",
    "\n",
    "\n",
    "Post-hoc screening: vx, vy consistent with other observations \n"
   ]
  },
  {
   "cell_type": "code",
   "execution_count": 1,
   "metadata": {},
   "outputs": [],
   "source": [
    "# Some Python utility code\n",
    "from pathlib import Path\n",
    "home_d = str(Path.home()) + '/'\n",
    "data_d = home_d + 'data/'             # A non-repository location for datasets of interest\n",
    "\n",
    "def dirobj(obj): return [x for x in dir(obj) if not x.startswith('_')]\n",
    "\n",
    "def lsal(path=''):\n",
    "    import os\n",
    "    return os.popen('ls -al ' + path).readlines()\n",
    "\n",
    "def ShowGitHubImage(username, repo, folder, source, localpath, localname, width, height):\n",
    "    global home_d\n",
    "    import requests, shutil\n",
    "    from PIL import Image\n",
    "    outf = localpath + '/' + localname\n",
    "    f = 'https://raw.githubusercontent.com/' + username + '/' + repo + '/master/' + folder + '/' + source\n",
    "    a = requests.get(f, stream = True)\n",
    "    if a.status_code == 200:\n",
    "        with open(outf, 'wb') as f:\n",
    "            a.raw.decode_content = True\n",
    "            shutil.copyfileobj(a.raw, f)\n",
    "    return Image.open(outf).resize((width,height),Image.ANTIALIAS)\n",
    "\n",
    "def ShowLocalImage(path, filename, width, height):\n",
    "    from PIL import Image\n",
    "    f = path + '/' + filename \n",
    "    return Image.open(f).resize((width,height),Image.ANTIALIAS)\n",
    "\n",
    "# Test either of the 'Show Image' functions\n",
    "# ShowGitHubImage('robfatland', 'othermathclub', 'images/cellular', 'conus_textile_shell_2.png', home_d, 'ctextile.jpg', 450, 250)\n",
    "# ShowLocalImage(home_d, 'ctextile.jpg', 450, 250)"
   ]
  },
  {
   "cell_type": "code",
   "execution_count": 2,
   "metadata": {},
   "outputs": [
    {
     "name": "stdout",
     "output_type": "stream",
     "text": [
      "Collecting utm\n",
      "Installing collected packages: utm\n",
      "Successfully installed utm-0.4.2\n",
      "\u001b[33mYou are using pip version 9.0.1, however version 18.1 is available.\n",
      "You should consider upgrading via the 'pip install --upgrade pip' command.\u001b[0m\n"
     ]
    }
   ],
   "source": [
    "# what we need to get stuff done\n",
    "!pip install utm\n",
    "\n",
    "%matplotlib inline\n",
    "from matplotlib import pyplot as plt\n",
    "import pandas as pd\n",
    "import netCDF4\n",
    "import xarray as xr\n",
    "from xarray import Dataset\n",
    "import numpy as np\n",
    "from ftplib import FTP\n",
    "import utm"
   ]
  },
  {
   "cell_type": "code",
   "execution_count": 3,
   "metadata": {
    "scrolled": false
   },
   "outputs": [],
   "source": [
    "# file grabbing code... this takes a few minutes \n",
    "golive2_d = data_d + 'golive2/'\n",
    "\n",
    "if False:\n",
    "    ftp = FTP('dtn.rc.colorado.edu')\n",
    "    ftp.login()\n",
    "    ftp.cwd('work/nsidc0710/nsidc0710_landsat8_golive_ice_velocity_v1.1/p063_r018')\n",
    "    a=[]\n",
    "    ftp.dir(a.append)    # This is a rather tricky line of Python as it passes an append method as an argument\n",
    "    d = [b.split()[8] for b in a if len(b.split()) == 9 and b.split()[8][-3:]=='.nc']\n",
    "    for i in range(len(d)):\n",
    "        ftp.retrbinary('RETR ' + d[i], open(golive2_d + d[i], 'wb').write)  \n",
    "        print('obtained file', i)\n",
    "    ftp.quit()\n",
    "    print(len(d))\n",
    "    # for c in d: print(c)"
   ]
  },
  {
   "cell_type": "code",
   "execution_count": 4,
   "metadata": {},
   "outputs": [
    {
     "name": "stdout",
     "output_type": "stream",
     "text": [
      "<class 'str'>\n",
      "2013-05-31T00:00:00\n"
     ]
    },
    {
     "data": {
      "text/plain": [
       "<xarray.Dataset>\n",
       "Dimensions:                                         (chars: 4280, time: 1, x: 803, y: 786)\n",
       "Coordinates:\n",
       "  * x                                               (x) float64 3.373e+05 ...\n",
       "  * y                                               (y) float64 6.779e+06 ...\n",
       "  * chars                                           (chars) int32 0 1 2 3 4 ...\n",
       "  * time                                            (time) datetime64[ns] 2013-05-31 ...\n",
       "Data variables:\n",
       "    image_pair_times                                |S1 ...\n",
       "    input_image_details                             |S1 ...\n",
       "    transverse_mercator                             |S1 ...\n",
       "    offset_correction                               |S1 ...\n",
       "    applied_bilinear_x_offset_correction_in_pixels  (y, x) float32 dask.array<shape=(786, 803), chunksize=(786, 803)>\n",
       "    applied_bilinear_y_offset_correction_in_pixels  (y, x) float32 dask.array<shape=(786, 803), chunksize=(786, 803)>\n",
       "    vx                                              (y, x) float32 dask.array<shape=(786, 803), chunksize=(786, 803)>\n",
       "    vy                                              (y, x) float32 dask.array<shape=(786, 803), chunksize=(786, 803)>\n",
       "    vv                                              (y, x) float32 dask.array<shape=(786, 803), chunksize=(786, 803)>\n",
       "    vx_masked                                       (y, x) float32 dask.array<shape=(786, 803), chunksize=(786, 803)>\n",
       "    vy_masked                                       (y, x) float32 dask.array<shape=(786, 803), chunksize=(786, 803)>\n",
       "    vv_masked                                       (y, x) float32 dask.array<shape=(786, 803), chunksize=(786, 803)>\n",
       "    corr                                            (y, x) float32 dask.array<shape=(786, 803), chunksize=(786, 803)>\n",
       "    del_corr                                        (y, x) float32 dask.array<shape=(786, 803), chunksize=(786, 803)>\n",
       "    lgo_mask                                        (y, x) float32 dask.array<shape=(786, 803), chunksize=(786, 803)>\n",
       "    d2idx2                                          (y, x) float32 dask.array<shape=(786, 803), chunksize=(786, 803)>\n",
       "    d2jdx2                                          (y, x) float32 dask.array<shape=(786, 803), chunksize=(786, 803)>\n",
       "    del_i                                           (y, x) float32 dask.array<shape=(786, 803), chunksize=(786, 803)>\n",
       "    del_j                                           (y, x) float32 dask.array<shape=(786, 803), chunksize=(786, 803)>\n",
       "    processing_log                                  (chars) |S1 dask.array<shape=(4280,), chunksize=(4280,)>\n",
       "Attributes:\n",
       "    GDAL_AREA_OR_POINT:  Area\n",
       "    Conventions:         CF-1.6\n",
       "    history:             2016-11-30T21:02:35.316800 : /projects/makl5454/bin/...\n",
       "    GDAL:                GDAL 2.0.2, released 2016/01/26"
      ]
     },
     "execution_count": 4,
     "metadata": {},
     "output_type": "execute_result"
    }
   ],
   "source": [
    "ds = xr.open_mfdataset(golive2_d + 'L8_063_018_016_2013_143_2013_159_v1.1.nc')\n",
    "# ds1['image_pair_times']\n",
    "# ds1['time'] = xr.Variable('time', ds1['image_pair_times'].attrs['mid_date'])\n",
    "# ds1\n",
    "print(type(ds['image_pair_times'].attrs['mid_date']))\n",
    "print(ds['image_pair_times'].attrs['mid_date'])\n",
    "s = ds['image_pair_times'].attrs['mid_date']\n",
    "ts = pd.Timestamp(s)\n",
    "ds['time'] = xr.Variable('time', [ts])\n",
    "ds"
   ]
  },
  {
   "cell_type": "code",
   "execution_count": 5,
   "metadata": {},
   "outputs": [],
   "source": [
    "#ds1\n",
    "#ds1.squeeze('chars', drop=True)\n",
    "#ds1['vv_masked'].sel(x=':', )\n",
    "#del ds1['chars']\n",
    "#ds1 = ds1.sel(x=slice(-1), y=slice(-1))\n",
    "#ds1\n",
    "# def pp(ds1):\n",
    "#     del ds1['processing_log']\n",
    "#     del ds1['chars']\n",
    "#     ds1.rename({'chars':'band'},inplace=True)\n",
    "#     return ds1.assign_coords(band=1)\n",
    "\n",
    "def pp(ds):\n",
    "    s = ds['image_pair_times'].attrs['mid_date']\n",
    "    ts = pd.Timestamp(s)\n",
    "    ds['time'] = xr.Variable('time', [ts])\n",
    "    return ds\n",
    "\n",
    "m = xr.open_mfdataset(golive2_d + '*.nc', preprocess = pp, decode_cf=False, autoclose=True, concat_dim='time')"
   ]
  },
  {
   "cell_type": "code",
   "execution_count": 6,
   "metadata": {},
   "outputs": [
    {
     "data": {
      "text/plain": [
       "<xarray.Dataset>\n",
       "Dimensions:                                         (chars: 4533, time: 46, x: 837, y: 828)\n",
       "Coordinates:\n",
       "  * chars                                           (chars) int64 0 1 2 3 4 ...\n",
       "  * time                                            (time) datetime64[ns] 2013-05-31 ...\n",
       "  * x                                               (x) float64 3.328e+05 ...\n",
       "  * y                                               (y) float64 6.537e+06 ...\n",
       "Data variables:\n",
       "    image_pair_times                                (time) object b'' b'' ...\n",
       "    input_image_details                             (time) object b'' b'' ...\n",
       "    transverse_mercator                             (time) object b'' b'' ...\n",
       "    offset_correction                               (time) object b'' b'' ...\n",
       "    applied_bilinear_x_offset_correction_in_pixels  (time, y, x) float32 dask.array<shape=(46, 828, 837), chunksize=(1, 828, 837)>\n",
       "    applied_bilinear_y_offset_correction_in_pixels  (time, y, x) float32 dask.array<shape=(46, 828, 837), chunksize=(1, 828, 837)>\n",
       "    vx                                              (time, y, x) float32 dask.array<shape=(46, 828, 837), chunksize=(1, 828, 837)>\n",
       "    vy                                              (time, y, x) float32 dask.array<shape=(46, 828, 837), chunksize=(1, 828, 837)>\n",
       "    vv                                              (time, y, x) float32 dask.array<shape=(46, 828, 837), chunksize=(1, 828, 837)>\n",
       "    vx_masked                                       (time, y, x) float32 dask.array<shape=(46, 828, 837), chunksize=(1, 828, 837)>\n",
       "    vy_masked                                       (time, y, x) float32 dask.array<shape=(46, 828, 837), chunksize=(1, 828, 837)>\n",
       "    vv_masked                                       (time, y, x) float32 dask.array<shape=(46, 828, 837), chunksize=(1, 828, 837)>\n",
       "    corr                                            (time, y, x) float32 dask.array<shape=(46, 828, 837), chunksize=(1, 828, 837)>\n",
       "    del_corr                                        (time, y, x) float32 dask.array<shape=(46, 828, 837), chunksize=(1, 828, 837)>\n",
       "    lgo_mask                                        (time, y, x) float64 dask.array<shape=(46, 828, 837), chunksize=(1, 828, 837)>\n",
       "    d2idx2                                          (time, y, x) float32 dask.array<shape=(46, 828, 837), chunksize=(1, 828, 837)>\n",
       "    d2jdx2                                          (time, y, x) float32 dask.array<shape=(46, 828, 837), chunksize=(1, 828, 837)>\n",
       "    del_i                                           (time, y, x) float32 dask.array<shape=(46, 828, 837), chunksize=(1, 828, 837)>\n",
       "    del_j                                           (time, y, x) float32 dask.array<shape=(46, 828, 837), chunksize=(1, 828, 837)>\n",
       "    processing_log                                  (time, chars) object dask.array<shape=(46, 4533), chunksize=(1, 4533)>\n",
       "Attributes:\n",
       "    GDAL_AREA_OR_POINT:  Area\n",
       "    Conventions:         CF-1.6\n",
       "    history:             2016-11-30T21:02:35.316800 : /projects/makl5454/bin/...\n",
       "    GDAL:                GDAL 2.0.2, released 2016/01/26"
      ]
     },
     "execution_count": 6,
     "metadata": {},
     "output_type": "execute_result"
    }
   ],
   "source": [
    "m"
   ]
  },
  {
   "cell_type": "code",
   "execution_count": 7,
   "metadata": {},
   "outputs": [
    {
     "data": {
      "text/plain": [
       "46"
      ]
     },
     "execution_count": 7,
     "metadata": {},
     "output_type": "execute_result"
    }
   ],
   "source": [
    "len(m['time'])"
   ]
  },
  {
   "cell_type": "code",
   "execution_count": 8,
   "metadata": {},
   "outputs": [
    {
     "data": {
      "text/plain": [
       "numpy.datetime64('2014-03-15T00:00:00.000000000')"
      ]
     },
     "execution_count": 8,
     "metadata": {},
     "output_type": "execute_result"
    }
   ],
   "source": [
    "# print(m['image_pair_times'])\n",
    "m['image_pair_times'].time.values[7]"
   ]
  },
  {
   "cell_type": "code",
   "execution_count": 9,
   "metadata": {},
   "outputs": [],
   "source": [
    "vxm = m.vx_masked\n",
    "vym = m.vy_masked\n",
    "vvm = m.vv_masked\n",
    "corr = m.corr\n",
    "dcorr = m.del_corr"
   ]
  },
  {
   "cell_type": "code",
   "execution_count": 10,
   "metadata": {},
   "outputs": [
    {
     "name": "stdout",
     "output_type": "stream",
     "text": [
      "[(3144.1744930562563, -2758.1968929581344), (5233.141818051343, -482.24623928405344), (3716.5123229203746, -2071.6535719921812), (6518.903660722659, -2628.9233719613403)] \n",
      "\n",
      "[4182.521170670804, 5255.314902376576, 4254.904507596729, 7029.03571149186] \n",
      "\n",
      "[array([ 75.17414413, -65.94579634]), array([99.57808267, -9.17635286]), array([ 87.3465507 , -48.68860319]), array([ 92.74250307, -37.40091073])] \n",
      "\n",
      "[42, 53, 43, 71] \n",
      "\n"
     ]
    }
   ],
   "source": [
    "# Endpoints determined off of a map representing four lateral transects of Seward glacier\n",
    "ends = []\n",
    "\n",
    "ends.append(((60.104166,-140.478055),(60.079166,-140.421944)))\n",
    "ends.append(((60.150833,-140.494444),(60.14611,-140.400277)))\n",
    "ends.append(((60.189722,-140.456388),(60.17083,-140.389722)))\n",
    "ends.append(((60.242222,-140.417500),(60.21805,-140.300277)))\n",
    "\n",
    "nTransects = len(ends)\n",
    "\n",
    "utm0, utm1 = [], []\n",
    "for i in range(nTransects):\n",
    "    utm0.append(utm.from_latlon(ends[i][0][0],ends[i][0][1]))     # 4-plets\n",
    "    utm1.append(utm.from_latlon(ends[i][1][0],ends[i][1][1]))\n",
    "\n",
    "from numpy.linalg import norm\n",
    "posting = 100.                         # meters\n",
    "\n",
    "# The following lists have index across the various transects\n",
    "transects = [(utm1[i][0]-utm0[i][0], utm1[i][1]-utm0[i][1]) for i in range(nTransects)]   # single vector spanning the transect\n",
    "lengths = [norm(transects[i]) for i in range(nTransects)]                                 # lengths of those vectors\n",
    "relative_postings = [transects[i]/lengths[i]*posting for i in range(nTransects)]          # a single 'posting vector' (hop)\n",
    "number_of_postings = [int(lengths[i]/posting) + 1 for i in range(nTransects)]               # number of postings in the transect\n",
    "\n",
    "\n",
    "print(transects, '\\n')\n",
    "print(lengths, '\\n')\n",
    "print(relative_postings, '\\n')\n",
    "print(number_of_postings, '\\n')"
   ]
  },
  {
   "cell_type": "code",
   "execution_count": 13,
   "metadata": {},
   "outputs": [
    {
     "name": "stdout",
     "output_type": "stream",
     "text": [
      "<xarray.DataArray 'time' (time: 46)>\n",
      "array(['2013-05-31T00:00:00.000000000', '2013-06-16T00:00:00.000000000',\n",
      "       '2013-11-23T00:00:00.000000000', '2014-01-10T00:00:00.000000000',\n",
      "       '2014-01-26T00:00:00.000000000', '2014-02-11T00:00:00.000000000',\n",
      "       '2014-02-27T00:00:00.000000000', '2014-03-15T00:00:00.000000000',\n",
      "       '2014-06-03T00:00:00.000000000', '2014-10-09T00:00:00.000000000',\n",
      "       '2014-10-25T00:00:00.000000000', '2014-11-10T00:00:00.000000000',\n",
      "       '2014-11-26T00:00:00.000000000', '2014-12-12T00:00:00.000000000',\n",
      "       '2014-12-28T00:00:00.000000000', '2015-01-13T00:00:00.000000000',\n",
      "       '2015-01-29T00:00:00.000000000', '2015-05-21T00:00:00.000000000',\n",
      "       '2015-06-06T00:00:00.000000000', '2015-08-09T00:00:00.000000000',\n",
      "       '2015-08-25T00:00:00.000000000', '2015-09-10T00:00:00.000000000',\n",
      "       '2015-09-26T00:00:00.000000000', '2015-11-29T00:00:00.000000000',\n",
      "       '2015-12-15T00:00:00.000000000', '2015-12-31T00:00:00.000000000',\n",
      "       '2016-01-16T00:00:00.000000000', '2016-02-01T00:00:00.000000000',\n",
      "       '2016-02-17T00:00:00.000000000', '2016-03-04T00:00:00.000000000',\n",
      "       '2016-05-23T00:00:00.000000000', '2016-06-08T00:00:00.000000000',\n",
      "       '2016-10-14T00:00:00.000000000', '2016-12-01T00:00:00.000000000',\n",
      "       '2017-01-18T00:00:00.000000000', '2017-07-13T00:00:00.000000000',\n",
      "       '2017-07-29T00:00:00.000000000', '2017-10-01T00:00:00.000000000',\n",
      "       '2017-11-18T00:00:00.000000000', '2017-12-04T00:00:00.000000000',\n",
      "       '2017-12-20T00:00:00.000000000', '2018-03-10T00:00:00.000000000',\n",
      "       '2018-03-26T00:00:00.000000000', '2018-07-16T00:00:00.000000000',\n",
      "       '2018-08-01T00:00:00.000000000', '2018-09-18T00:00:00.000000000'],\n",
      "      dtype='datetime64[ns]')\n",
      "Coordinates:\n",
      "  * time     (time) datetime64[ns] 2013-05-31 2013-06-16 2013-11-23 ...\n"
     ]
    }
   ],
   "source": [
    "# print(m['time'].values) creates a one-element list of dates in string quotes...\n",
    "print(m['time'])             # a 42-element list (DataArray) of datetime64 values"
   ]
  },
  {
   "cell_type": "code",
   "execution_count": 15,
   "metadata": {},
   "outputs": [
    {
     "data": {
      "text/plain": [
       "[<matplotlib.lines.Line2D at 0x7f34526d9d68>]"
      ]
     },
     "execution_count": 15,
     "metadata": {},
     "output_type": "execute_result"
    },
    {
     "data": {
      "image/png": "[encoded data removed]",
      "text/plain": [
       "<Figure size 432x288 with 1 Axes>"
      ]
     },
     "metadata": {},
     "output_type": "display_data"
    }
   ],
   "source": [
    "xMid = utm0[0][0] + (number_of_postings[0]/2.)*relative_postings[0][0]    # These must start at utm0 and add a certain \n",
    "yMid = utm0[0][1] + (number_of_postings[0]/2.)*relative_postings[0][1]    #   number of the relative_postings vectors\n",
    "x = m['time']\n",
    "y = m['vv_masked'].sel(y=yMid,x=xMid,method='nearest').values \n",
    "plt.plot(x, y)"
   ]
  },
  {
   "cell_type": "code",
   "execution_count": 16,
   "metadata": {},
   "outputs": [
    {
     "name": "stdout",
     "output_type": "stream",
     "text": [
      "<xarray.DataArray 'time' (time: 46)>\n",
      "array(['2013-05-31T00:00:00.000000000', '2013-06-16T00:00:00.000000000',\n",
      "       '2013-11-23T00:00:00.000000000', '2014-01-10T00:00:00.000000000',\n",
      "       '2014-01-26T00:00:00.000000000', '2014-02-11T00:00:00.000000000',\n",
      "       '2014-02-27T00:00:00.000000000', '2014-03-15T00:00:00.000000000',\n",
      "       '2014-06-03T00:00:00.000000000', '2014-10-09T00:00:00.000000000',\n",
      "       '2014-10-25T00:00:00.000000000', '2014-11-10T00:00:00.000000000',\n",
      "       '2014-11-26T00:00:00.000000000', '2014-12-12T00:00:00.000000000',\n",
      "       '2014-12-28T00:00:00.000000000', '2015-01-13T00:00:00.000000000',\n",
      "       '2015-01-29T00:00:00.000000000', '2015-05-21T00:00:00.000000000',\n",
      "       '2015-06-06T00:00:00.000000000', '2015-08-09T00:00:00.000000000',\n",
      "       '2015-08-25T00:00:00.000000000', '2015-09-10T00:00:00.000000000',\n",
      "       '2015-09-26T00:00:00.000000000', '2015-11-29T00:00:00.000000000',\n",
      "       '2015-12-15T00:00:00.000000000', '2015-12-31T00:00:00.000000000',\n",
      "       '2016-01-16T00:00:00.000000000', '2016-02-01T00:00:00.000000000',\n",
      "       '2016-02-17T00:00:00.000000000', '2016-03-04T00:00:00.000000000',\n",
      "       '2016-05-23T00:00:00.000000000', '2016-06-08T00:00:00.000000000',\n",
      "       '2016-10-14T00:00:00.000000000', '2016-12-01T00:00:00.000000000',\n",
      "       '2017-01-18T00:00:00.000000000', '2017-07-13T00:00:00.000000000',\n",
      "       '2017-07-29T00:00:00.000000000', '2017-10-01T00:00:00.000000000',\n",
      "       '2017-11-18T00:00:00.000000000', '2017-12-04T00:00:00.000000000',\n",
      "       '2017-12-20T00:00:00.000000000', '2018-03-10T00:00:00.000000000',\n",
      "       '2018-03-26T00:00:00.000000000', '2018-07-16T00:00:00.000000000',\n",
      "       '2018-08-01T00:00:00.000000000', '2018-09-18T00:00:00.000000000'],\n",
      "      dtype='datetime64[ns]')\n",
      "Coordinates:\n",
      "  * time     (time) datetime64[ns] 2013-05-31 2013-06-16 2013-11-23 ... [ 7.1970596e+00  7.5474858e+00  3.7422018e+00 -9.9990000e+03\n",
      " -9.9990000e+03  4.1403122e+00  4.4770308e+00  4.5451021e+00\n",
      " -9.9990000e+03  3.7717099e+00 -9.9990000e+03 -9.9990000e+03\n",
      " -9.9990000e+03 -9.9990000e+03 -9.9990000e+03 -9.9990000e+03\n",
      " -9.9990000e+03  5.7686663e+00  5.2926102e+00 -9.9990000e+03\n",
      " -9.9990000e+03 -9.9990000e+03 -9.9990000e+03 -9.9990000e+03\n",
      "  2.9187362e+00 -9.9990000e+03 -9.9990000e+03 -9.9990000e+03\n",
      "  3.9383478e+00  4.3789010e+00  5.4942083e+00  5.7056642e+00\n",
      "  2.6756804e+00  3.5288517e+00 -9.9990000e+03  5.1621904e+00\n",
      "  4.6866207e+00  3.7260458e+00 -9.9990000e+03 -9.9990000e+03\n",
      " -9.9990000e+03 -9.9990000e+03 -9.9990000e+03 -9.9990000e+03\n",
      " -9.9990000e+03  2.7503073e+00]\n"
     ]
    }
   ],
   "source": [
    "# crucial is to distinguish between indexing using coordinate ['time'] and variable ['Image_pair_times']\n",
    "for t in range(1): \n",
    "    xMid = utm0[t][0] + (number_of_postings[t]/2.)*relative_postings[t][0]    # These must start at utm0 and add a certain \n",
    "    yMid = utm0[t][1] + (number_of_postings[t]/2.)*relative_postings[t][1]    #   number of the relative_postings vectors\n",
    "    x = m['time']\n",
    "    y = m['vv_masked'].sel(y=yMid,x=xMid,method='nearest').values      \n",
    "    print(x, y)\n",
    "        "
   ]
  },
  {
   "cell_type": "code",
   "execution_count": 21,
   "metadata": {},
   "outputs": [
    {
     "data": {
      "image/png": "[encoded data removed]",
      "text/plain": [
       "<Figure size 576x864 with 4 Axes>"
      ]
     },
     "metadata": {},
     "output_type": "display_data"
    }
   ],
   "source": [
    "# Create time-series plots for speeds at the centers of the above four respective lateral transects\n",
    "\n",
    "# Remember that n16s is how many 16-day-interval results we have; and these are m[0], ..., m[n16s - 1]\n",
    "maxSpeed = 8.\n",
    "colorsequence = ['red', 'orange', 'green', 'cyan']\n",
    "fig,axes = plt.subplots(nTransects)\n",
    "fig.set_size_inches(8,12)\n",
    "for i in range(nTransects): axes[i].set(ylim=(0., maxSpeed), xlabel='time series', ylabel = 'm / d')\n",
    "# plt.subplots_adjust(hspace=0.6)\n",
    "\n",
    "for t in range(4): \n",
    "    xMid = utm0[t][0] + (number_of_postings[t]/2.)*relative_postings[t][0]    # These must start at utm0 and add a certain \n",
    "    yMid = utm0[t][1] + (number_of_postings[t]/2.)*relative_postings[t][1]    #   number of the relative_postings vectors\n",
    "    x = m['time']\n",
    "    y = m['vv_masked'].sel(y=yMid,x=xMid,method='nearest').values \n",
    "    axes[t].plot(x, y, 'o', color=colorsequence[t])\n",
    "        "
   ]
  }
 ],
 "metadata": {
  "kernelspec": {
   "display_name": "Python [conda root]",
   "language": "python",
   "name": "conda-root-py"
  },
  "language_info": {
   "codemirror_mode": {
    "name": "ipython",
    "version": 3
   },
   "file_extension": ".py",
   "mimetype": "text/x-python",
   "name": "python",
   "nbconvert_exporter": "python",
   "pygments_lexer": "ipython3",
   "version": "3.6.6"
  }
 },
 "nbformat": 4,
 "nbformat_minor": 2
}
