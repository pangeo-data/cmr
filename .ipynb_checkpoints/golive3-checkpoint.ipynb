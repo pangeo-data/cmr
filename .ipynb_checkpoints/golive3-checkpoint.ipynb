{
 "cells": [
  {
   "cell_type": "markdown",
   "metadata": {},
   "source": [
    "# golive3\n",
    "\n",
    "Extend the number of path/row elements out to eight, all with the same UTM lat/lon zone. (Otherwise coordinates\n",
    "will start getting crossed.)"
   ]
  },
  {
   "cell_type": "code",
   "execution_count": 1,
   "metadata": {},
   "outputs": [
    {
     "name": "stdout",
     "output_type": "stream",
     "text": [
      "Requirement already satisfied: utm in /opt/conda/lib/python3.6/site-packages\n",
      "\u001b[33mYou are using pip version 9.0.1, however version 19.0.1 is available.\n",
      "You should consider upgrading via the 'pip install --upgrade pip' command.\u001b[0m\n",
      "Requirement already satisfied: pygeotools in /opt/conda/lib/python3.6/site-packages\n",
      "Requirement already satisfied: gdal in /opt/conda/lib/python3.6/site-packages (from pygeotools)\n",
      "Requirement already satisfied: numpy in /opt/conda/lib/python3.6/site-packages (from pygeotools)\n",
      "Requirement already satisfied: matplotlib in /opt/conda/lib/python3.6/site-packages (from pygeotools)\n",
      "Requirement already satisfied: scipy in /opt/conda/lib/python3.6/site-packages (from pygeotools)\n",
      "Requirement already satisfied: cycler>=0.10 in /opt/conda/lib/python3.6/site-packages (from matplotlib->pygeotools)\n",
      "Requirement already satisfied: pyparsing!=2.0.4,!=2.1.2,!=2.1.6,>=2.0.1 in /opt/conda/lib/python3.6/site-packages (from matplotlib->pygeotools)\n",
      "Requirement already satisfied: python-dateutil>=2.1 in /opt/conda/lib/python3.6/site-packages (from matplotlib->pygeotools)\n",
      "Requirement already satisfied: pytz in /opt/conda/lib/python3.6/site-packages (from matplotlib->pygeotools)\n",
      "Requirement already satisfied: six>=1.10 in /opt/conda/lib/python3.6/site-packages (from matplotlib->pygeotools)\n",
      "Requirement already satisfied: kiwisolver>=1.0.1 in /opt/conda/lib/python3.6/site-packages (from matplotlib->pygeotools)\n",
      "Requirement already satisfied: setuptools in /opt/conda/lib/python3.6/site-packages (from kiwisolver>=1.0.1->matplotlib->pygeotools)\n",
      "\u001b[33mYou are using pip version 9.0.1, however version 19.0.1 is available.\n",
      "You should consider upgrading via the 'pip install --upgrade pip' command.\u001b[0m\n"
     ]
    }
   ],
   "source": [
    "%matplotlib inline\n",
    "import timeit\n",
    "from datetime import timedelta\n",
    "from matplotlib import pyplot as plt\n",
    "import pandas as pd\n",
    "import netCDF4\n",
    "import xarray as xr\n",
    "import numpy as np\n",
    "from ipywidgets import *                # interactivity\n",
    "from traitlets import dlink             # interactivity\n",
    "import sys\n",
    "import os\n",
    "from pathlib import Path\n",
    "\n",
    "# geoscience tools\n",
    "!pip install utm\n",
    "!pip install pygeotools\n",
    "import utm\n",
    "\n",
    "from osgeo import gdal \n",
    "from pygeotools.lib import iolib,timelib\n",
    "\n",
    "\n",
    "home_d = str(Path.home()) + '/'\n",
    "data_d = home_d + 'data/'             # A non-repository location for datasets of interest\n",
    "\n",
    "def dirobj(obj): return [x for x in dir(obj) if not x.startswith('_')]\n",
    "\n",
    "def lsal(path=''):\n",
    "    import os\n",
    "    return os.popen('ls -al ' + path).readlines()\n",
    "\n",
    "def ShowGitHubImage(username, repo, folder, source, localpath, localname, width, height):\n",
    "    global home_d\n",
    "    import requests, shutil\n",
    "    from PIL import Image\n",
    "    outf = localpath + '/' + localname\n",
    "    f = 'https://raw.githubusercontent.com/' + username + '/' + repo + '/master/' + folder + '/' + source\n",
    "    a = requests.get(f, stream = True)\n",
    "    if a.status_code == 200:\n",
    "        with open(outf, 'wb') as f:\n",
    "            a.raw.decode_content = True\n",
    "            shutil.copyfileobj(a.raw, f)\n",
    "    return Image.open(outf).resize((width,height),Image.ANTIALIAS)\n",
    "\n",
    "def ShowLocalImage(path, filename, width, height):\n",
    "    from PIL import Image\n",
    "    f = path + '/' + filename \n",
    "    return Image.open(f).resize((width,height),Image.ANTIALIAS)\n",
    "\n",
    "# Test either of the 'Show Image' functions\n",
    "# ShowGitHubImage('robfatland', 'othermathclub', 'images/cellular', 'conus_textile_shell_2.png', home_d, 'ctextile.jpg', 450, 250)\n",
    "# ShowLocalImage(home_d, 'ctextile.jpg', 450, 250)"
   ]
  },
  {
   "cell_type": "markdown",
   "metadata": {},
   "source": [
    "### UTM zone stuff\n",
    "\n",
    "Coordinates are Paths 60, 61, 62, 63 x Rows 17, 18. Need to confirm these are the same UTM zones (7 in longitude, \n",
    "'V' in latitude). \n",
    "\n"
   ]
  },
  {
   "cell_type": "code",
   "execution_count": 40,
   "metadata": {},
   "outputs": [],
   "source": [
    "# NetCDF files: Pull from the GoLIVE ftp server\n",
    "# p061_r017/*.nc, p061_r018, etcetera to p063_018 which was pulled by golive2\n",
    "# !wget -P /home/jovyan/data/golive3 ftp://dtn.rc.colorado.edu/work/nsidc0710/nsidc0710_landsat8_golive_ice_velocity_v1.1/p061_r018/*.nc"
   ]
  },
  {
   "cell_type": "code",
   "execution_count": null,
   "metadata": {},
   "outputs": [],
   "source": [
    "%%time\n",
    "golive3_d = data_d + 'golive3/'\n",
    "\n",
    "# Expect this to take 4 minutes (golive2) x 6 or about half an hour\n",
    "\n",
    "tslist = []\n",
    "\n",
    "def pp(ds):\n",
    "    global tslist\n",
    "    s = ds['image_pair_times'].attrs['mid_date']\n",
    "    ts = pd.Timestamp(s)\n",
    "    while ts in tslist: ts += timedelta(hours = 1)\n",
    "    tslist.append(ts)\n",
    "    ds['time'] = xr.Variable('time', [ts])\n",
    "    return ds\n",
    "\n",
    "m = xr.open_mfdataset(golive3_d + '*.nc', preprocess = pp, decode_cf=False, autoclose=True, concat_dim='time')\n",
    "\n",
    "print('there are', len(tslist), 'files in play')"
   ]
  },
  {
   "cell_type": "code",
   "execution_count": 35,
   "metadata": {},
   "outputs": [
    {
     "name": "stdout",
     "output_type": "stream",
     "text": [
      "338542.5 583342.5 6785557.5 6537757.5\n",
      "(61.171145749763745, -144.00210553184687)\n",
      "(61.1955526954422, -139.4494276228765)\n",
      "(58.94895884209574, -143.80666097874703)\n",
      "(58.97128013358264, -139.55049642557654)\n"
     ]
    }
   ],
   "source": [
    "xHi = ds.dims['x'] - 1\n",
    "yHi = ds.dims['y'] - 1\n",
    "n0 = ds.y[0].data\n",
    "n1 = ds.y[yHi].data\n",
    "e0 = ds.x[0].data\n",
    "e1 = ds.x[xHi].data\n",
    "print(e0, e1, n0, n1)\n",
    "print(utm.to_latlon(e0, n0, 7, 'V'))\n",
    "print(utm.to_latlon(e1, n0, 7, 'V'))\n",
    "print(utm.to_latlon(e0, n1, 7, 'V'))\n",
    "print(utm.to_latlon(e1, n1, 7, 'V'))"
   ]
  },
  {
   "cell_type": "code",
   "execution_count": 23,
   "metadata": {},
   "outputs": [
    {
     "data": {
      "text/plain": [
       "(634766.5233056082, 6776500.484541063, 6, 'V')"
      ]
     },
     "execution_count": 23,
     "metadata": {},
     "output_type": "execute_result"
    }
   ],
   "source": [
    "utm.from_latlon(61.1, -144.5)"
   ]
  },
  {
   "cell_type": "code",
   "execution_count": 25,
   "metadata": {},
   "outputs": [
    {
     "data": {
      "text/plain": [
       "(392180.21747533686, 6775573.591656524, 7, 'V')"
      ]
     },
     "execution_count": 25,
     "metadata": {},
     "output_type": "execute_result"
    }
   ],
   "source": [
    "utm.from_latlon(61.1, -143.)"
   ]
  },
  {
   "cell_type": "code",
   "execution_count": 26,
   "metadata": {},
   "outputs": [
    {
     "data": {
      "text/plain": [
       "(553829.1454782498, 6779906.679402831, 7, 'V')"
      ]
     },
     "execution_count": 26,
     "metadata": {},
     "output_type": "execute_result"
    }
   ],
   "source": [
    "utm.from_latlon(61.15, -140.)"
   ]
  },
  {
   "cell_type": "code",
   "execution_count": 27,
   "metadata": {},
   "outputs": [
    {
     "data": {
      "text/plain": [
       "(486308.87071060535, 6718260.892980865, 8, 'V')"
      ]
     },
     "execution_count": 27,
     "metadata": {},
     "output_type": "execute_result"
    }
   ],
   "source": [
    "utm.from_latlon(60.6, -135.25)"
   ]
  }
 ],
 "metadata": {
  "kernelspec": {
   "display_name": "Python [conda root]",
   "language": "python",
   "name": "conda-root-py"
  },
  "language_info": {
   "codemirror_mode": {
    "name": "ipython",
    "version": 3
   },
   "file_extension": ".py",
   "mimetype": "text/x-python",
   "name": "python",
   "nbconvert_exporter": "python",
   "pygments_lexer": "ipython3",
   "version": "3.6.6"
  }
 },
 "nbformat": 4,
 "nbformat_minor": 2
}
