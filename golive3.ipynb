{
 "cells": [
  {
   "cell_type": "markdown",
   "metadata": {},
   "source": [
    "# golive3\n",
    "\n",
    "Extend the number of path/row elements out to eight, all with the same UTM lat/lon zone. (Otherwise coordinates\n",
    "will start getting crossed.)"
   ]
  },
  {
   "cell_type": "code",
   "execution_count": 1,
   "metadata": {},
   "outputs": [
    {
     "name": "stdout",
     "output_type": "stream",
     "text": [
      "Requirement already satisfied: utm in /opt/conda/lib/python3.6/site-packages\n",
      "\u001b[33mYou are using pip version 9.0.1, however version 19.0.2 is available.\n",
      "You should consider upgrading via the 'pip install --upgrade pip' command.\u001b[0m\n",
      "Requirement already satisfied: pygeotools in /opt/conda/lib/python3.6/site-packages\n",
      "Requirement already satisfied: numpy in /opt/conda/lib/python3.6/site-packages (from pygeotools)\n",
      "Requirement already satisfied: matplotlib in /opt/conda/lib/python3.6/site-packages (from pygeotools)\n",
      "Requirement already satisfied: gdal in /opt/conda/lib/python3.6/site-packages (from pygeotools)\n",
      "Requirement already satisfied: scipy in /opt/conda/lib/python3.6/site-packages (from pygeotools)\n",
      "Requirement already satisfied: cycler>=0.10 in /opt/conda/lib/python3.6/site-packages (from matplotlib->pygeotools)\n",
      "Requirement already satisfied: kiwisolver>=1.0.1 in /opt/conda/lib/python3.6/site-packages (from matplotlib->pygeotools)\n",
      "Requirement already satisfied: pyparsing!=2.0.4,!=2.1.2,!=2.1.6,>=2.0.1 in /opt/conda/lib/python3.6/site-packages (from matplotlib->pygeotools)\n",
      "Requirement already satisfied: python-dateutil>=2.1 in /opt/conda/lib/python3.6/site-packages (from matplotlib->pygeotools)\n",
      "Requirement already satisfied: six in /opt/conda/lib/python3.6/site-packages (from cycler>=0.10->matplotlib->pygeotools)\n",
      "Requirement already satisfied: setuptools in /opt/conda/lib/python3.6/site-packages (from kiwisolver>=1.0.1->matplotlib->pygeotools)\n",
      "\u001b[33mYou are using pip version 9.0.1, however version 19.0.2 is available.\n",
      "You should consider upgrading via the 'pip install --upgrade pip' command.\u001b[0m\n"
     ]
    }
   ],
   "source": [
    "%matplotlib inline\n",
    "\n",
    "!pip install utm\n",
    "!pip install pygeotools\n",
    "\n",
    "import timeit\n",
    "from datetime import timedelta\n",
    "from matplotlib import pyplot as plt\n",
    "import pandas as pd\n",
    "import netCDF4\n",
    "import xarray as xr\n",
    "import numpy as np\n",
    "from ipywidgets import *                # interactivity\n",
    "from traitlets import dlink             # interactivity\n",
    "import sys\n",
    "import os\n",
    "import utm\n",
    "\n",
    "# from osgeo import gdal \n",
    "# from pygeotools.lib import iolib,timelib\n",
    "\n",
    "import golive_utility as g"
   ]
  },
  {
   "cell_type": "markdown",
   "metadata": {},
   "source": [
    "### UTM zone stuff\n",
    "\n",
    "Coordinates are Paths 60, 61, 62, 63, 64, 65 x Rows 17 and 18. However the `x` and `y` coordinates are degenerate\n",
    "from one to another when the UTM zone changes, specifically in longitude. This we can pull from a dataset using \n",
    "this function: \n",
    "\n",
    "\n",
    "```\n",
    "def GetMeridian(ds):\n",
    "    pstring = ds.input_image_details.attrs['image1_proj_WKT']\n",
    "    locale = pstring.find('central_meridian')\n",
    "    return int(pstring[locale+18:locale+22])\n",
    "\n",
    "print(GetMeridian(dataset))\n",
    "```\n",
    "\n",
    "Using this on some exemplary data files shows that a block of eight path-row frames lie within \n",
    "the same UTM zone (meridian -141). \n",
    "\n",
    "\n",
    "```\n",
    "    65 17       64 17       63 17       62 17\n",
    "\n",
    "              64 18       63 18       62 18       61 18\n",
    "```\n",
    "\n",
    "This extends the **golive2** notebook by a factor of 8\n",
    "without running afoul of coordinate ambiguity. The following cell uses `wget` to pull the respective data."
   ]
  },
  {
   "cell_type": "code",
   "execution_count": null,
   "metadata": {},
   "outputs": [],
   "source": [
    "%%time\n",
    "if False:\n",
    "    # This takes about three minutes per path-row frame\n",
    "    #   Pull NetCDF files from the GoLIVE ftp server; by path-row frames\n",
    "    !wget -P /home/jovyan/data/golive3 ftp://dtn.rc.colorado.edu/work/nsidc0710/nsidc0710_landsat8_golive_ice_velocity_v1.1/p065_r017/*.nc\n",
    "    !wget -P /home/jovyan/data/golive3 ftp://dtn.rc.colorado.edu/work/nsidc0710/nsidc0710_landsat8_golive_ice_velocity_v1.1/p064_r018/*.nc\n",
    "    !wget -P /home/jovyan/data/golive3 ftp://dtn.rc.colorado.edu/work/nsidc0710/nsidc0710_landsat8_golive_ice_velocity_v1.1/p064_r017/*.nc\n",
    "    !wget -P /home/jovyan/data/golive3 ftp://dtn.rc.colorado.edu/work/nsidc0710/nsidc0710_landsat8_golive_ice_velocity_v1.1/p063_r018/*.nc\n",
    "    !wget -P /home/jovyan/data/golive3 ftp://dtn.rc.colorado.edu/work/nsidc0710/nsidc0710_landsat8_golive_ice_velocity_v1.1/p063_r017/*.nc\n",
    "    !wget -P /home/jovyan/data/golive3 ftp://dtn.rc.colorado.edu/work/nsidc0710/nsidc0710_landsat8_golive_ice_velocity_v1.1/p062_r018/*.nc\n",
    "    !wget -P /home/jovyan/data/golive3 ftp://dtn.rc.colorado.edu/work/nsidc0710/nsidc0710_landsat8_golive_ice_velocity_v1.1/p062_r017/*.nc\n",
    "    !wget -P /home/jovyan/data/golive3 ftp://dtn.rc.colorado.edu/work/nsidc0710/nsidc0710_landsat8_golive_ice_velocity_v1.1/p061_r018/*.nc"
   ]
  },
  {
   "cell_type": "code",
   "execution_count": 2,
   "metadata": {},
   "outputs": [
    {
     "name": "stdout",
     "output_type": "stream",
     "text": [
      "CPU times: user 1min 26s, sys: 17.5 s, total: 1min 44s\n",
      "Wall time: 57.9 s\n"
     ]
    }
   ],
   "source": [
    "%%time\n",
    "\n",
    "# because the files are redundant: Use the data directory for the golive3 as the source \n",
    "golive3_d = g.SetDataDirectory('golive3')\n",
    "\n",
    "tslist = []\n",
    "\n",
    "sourceFiles = golive3_d + 'L8*016_2014*.nc'\n",
    "# sourceFiles = golive3_d + 'L8*.nc'\n",
    "\n",
    "def pp(d):\n",
    "    global tslist\n",
    "    s = d['image_pair_times'].attrs['mid_date']\n",
    "    ts = pd.Timestamp(s)\n",
    "    while ts in tslist: ts += timedelta(hours = 1)\n",
    "    tslist.append(ts)\n",
    "    d['time'] = xr.Variable('time', [ts])\n",
    "    return d\n",
    "\n",
    "# This next line 'works' but breaks the kernel when using the entire source dataset. My guess is that \n",
    "#   2000-plus files are too much metadata for xarray to deal with in memory (let alone the data of course).\n",
    "#   For the sake of getting it to work a data subset can be selected for example with \n",
    "#     sourceFiles = golive3_d + 'L8*016_2014*.nc'\n",
    "#   where the wildcards give 75 files, less than the 255 from golive2; then we have\n",
    "#\n",
    "# ds = xr.open_mfdataset(sourceFiles, preprocess = pp, decode_cf = False, autoclose = True, concat_dim='time')\n",
    "# \n",
    "# Whereas a more ambitious idea would be to preserve the time axis entire in dask chunks\n",
    "#   There are 2103 source files and time becomes the first axis. sqrt(1e6/2103) is about 22 so... \n",
    "ds = xr.open_mfdataset(sourceFiles, preprocess = pp, decode_cf = False, \\\n",
    "                       autoclose = True, concat_dim='time')\n",
    "\n",
    "# ds.vv_masked[0].plot(figsize=(12,8), cmap=plt.cm.rainbow, vmin=0., vmax=4.)\n",
    "ds\n",
    "# focus on the interesting part of the image...\n",
    "# plt.xlim(480000,570000)\n",
    "# plt.ylim(6630000,6694000)"
   ]
  },
  {
   "cell_type": "code",
   "execution_count": null,
   "metadata": {},
   "outputs": [],
   "source": [
    "print(tslist)\n",
    "print(len(tslist))"
   ]
  },
  {
   "cell_type": "code",
   "execution_count": null,
   "metadata": {},
   "outputs": [],
   "source": [
    "print(np.sqrt(1000000./2103.))"
   ]
  },
  {
   "cell_type": "code",
   "execution_count": null,
   "metadata": {},
   "outputs": [],
   "source": [
    "vv=ds.vv_masked.load()"
   ]
  },
  {
   "cell_type": "code",
   "execution_count": null,
   "metadata": {},
   "outputs": [],
   "source": [
    "vv"
   ]
  },
  {
   "cell_type": "code",
   "execution_count": null,
   "metadata": {},
   "outputs": [],
   "source": [
    "vv.to_netcdf('go_16day_2014.nc')"
   ]
  },
  {
   "cell_type": "code",
   "execution_count": null,
   "metadata": {},
   "outputs": [],
   "source": [
    "type(vv)"
   ]
  },
  {
   "cell_type": "code",
   "execution_count": null,
   "metadata": {
    "scrolled": true
   },
   "outputs": [],
   "source": [
    "vv"
   ]
  },
  {
   "cell_type": "code",
   "execution_count": null,
   "metadata": {},
   "outputs": [],
   "source": [
    "for i in range(200):\n",
    "    print(vv.isel(x=1300+i,y=1000+i,time=53).values)"
   ]
  },
  {
   "cell_type": "code",
   "execution_count": null,
   "metadata": {},
   "outputs": [],
   "source": [
    "print(75*1773*1361)\n",
    "count0=vv.count()"
   ]
  },
  {
   "cell_type": "code",
   "execution_count": null,
   "metadata": {},
   "outputs": [],
   "source": [
    "count1 = vv.where(vv.data == -9999.0)"
   ]
  },
  {
   "cell_type": "code",
   "execution_count": null,
   "metadata": {},
   "outputs": [],
   "source": [
    "count2 = count1.count()\n",
    "count2"
   ]
  },
  {
   "cell_type": "code",
   "execution_count": null,
   "metadata": {},
   "outputs": [],
   "source": [
    "vv_mean1 = vv.where(vv.data != -9999.)"
   ]
  },
  {
   "cell_type": "code",
   "execution_count": null,
   "metadata": {},
   "outputs": [],
   "source": [
    "vv_mean2 = vv_mean1.mean('time')"
   ]
  },
  {
   "cell_type": "code",
   "execution_count": null,
   "metadata": {},
   "outputs": [],
   "source": [
    "vv_mean2.to_netcdf('go_2014_16day_mean.nc')"
   ]
  },
  {
   "cell_type": "code",
   "execution_count": null,
   "metadata": {},
   "outputs": [],
   "source": [
    "vv_mean2.shape"
   ]
  },
  {
   "cell_type": "code",
   "execution_count": null,
   "metadata": {},
   "outputs": [],
   "source": [
    "vv_mean2.plot(figsize=(16,16), cmap=plt.cm.rainbow, vmin=0., vmax=0.8)\n",
    "# plt.xlim(220000,490000)\n",
    "# plt.ylim(6700000,6970000)"
   ]
  },
  {
   "cell_type": "code",
   "execution_count": null,
   "metadata": {},
   "outputs": [],
   "source": [
    "g.dirnou(vv)"
   ]
  },
  {
   "cell_type": "code",
   "execution_count": null,
   "metadata": {},
   "outputs": [],
   "source": []
  },
  {
   "cell_type": "code",
   "execution_count": null,
   "metadata": {},
   "outputs": [],
   "source": [
    "vv_mean1 = vv.where(vv.data>0.)"
   ]
  },
  {
   "cell_type": "code",
   "execution_count": null,
   "metadata": {},
   "outputs": [],
   "source": [
    "vv_mean2 = vv_mean1.mean()"
   ]
  },
  {
   "cell_type": "code",
   "execution_count": null,
   "metadata": {},
   "outputs": [],
   "source": [
    "ds.vv_masked"
   ]
  },
  {
   "cell_type": "code",
   "execution_count": null,
   "metadata": {},
   "outputs": [],
   "source": [
    "vv = ds['vv_masked'].load()"
   ]
  },
  {
   "cell_type": "code",
   "execution_count": null,
   "metadata": {},
   "outputs": [],
   "source": [
    "vv1=vv.where(vv.data >= 0.).mean('time')"
   ]
  },
  {
   "cell_type": "code",
   "execution_count": null,
   "metadata": {},
   "outputs": [],
   "source": [
    "vv1.plot(figsize=(16,16), cmap=plt.cm.rainbow, vmin=0., vmax=1.)\n",
    "# plt.xlim(220000,490000)\n",
    "# plt.ylim(6700000,6970000)"
   ]
  },
  {
   "cell_type": "code",
   "execution_count": null,
   "metadata": {},
   "outputs": [],
   "source": [
    "xHi = ds.dims['x'] - 1\n",
    "yHi = ds.dims['y'] - 1\n",
    "n0 = ds.y[0].data\n",
    "n1 = ds.y[yHi].data\n",
    "e0 = ds.x[0].data\n",
    "e1 = ds.x[xHi].data\n",
    "print(e0, e1, n0, n1)\n",
    "print(utm.to_latlon(e0, n0, 7, 'V'))\n",
    "print(utm.to_latlon(e1, n0, 7, 'V'))\n",
    "print(utm.to_latlon(e0, n1, 7, 'V'))\n",
    "print(utm.to_latlon(e1, n1, 7, 'V'))"
   ]
  },
  {
   "cell_type": "code",
   "execution_count": null,
   "metadata": {},
   "outputs": [],
   "source": [
    "utm.from_latlon(61.1, -144.5)"
   ]
  },
  {
   "cell_type": "code",
   "execution_count": null,
   "metadata": {},
   "outputs": [],
   "source": [
    "utm.from_latlon(61.1, -143.)"
   ]
  },
  {
   "cell_type": "code",
   "execution_count": null,
   "metadata": {},
   "outputs": [],
   "source": [
    "utm.from_latlon(61.15, -140.)"
   ]
  },
  {
   "cell_type": "code",
   "execution_count": null,
   "metadata": {},
   "outputs": [],
   "source": [
    "utm.from_latlon(60.6, -135.25)"
   ]
  }
 ],
 "metadata": {
  "kernelspec": {
   "display_name": "Python [conda root]",
   "language": "python",
   "name": "conda-root-py"
  },
  "language_info": {
   "codemirror_mode": {
    "name": "ipython",
    "version": 3
   },
   "file_extension": ".py",
   "mimetype": "text/x-python",
   "name": "python",
   "nbconvert_exporter": "python",
   "pygments_lexer": "ipython3",
   "version": "3.6.6"
  }
 },
 "nbformat": 4,
 "nbformat_minor": 2
}
