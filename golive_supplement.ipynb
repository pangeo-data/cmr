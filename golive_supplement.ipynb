{
 "cells": [
  {
   "cell_type": "markdown",
   "metadata": {},
   "source": [
    "# golive supplement\n",
    "\n",
    "The **golive** Jupyter notebook in this repo demonstrates access to golive data: From discovery \n",
    "to selection, download, deconstruction and so on through to data analysis and visualization. \n",
    "That notebook raises the question **What other data and/or mechanisms support the speed \n",
    "variability apparent in golive?**\n",
    "\n",
    "\n",
    "To keep the storyline reasonably focused in that notebook we establish (as standard practice) this \n",
    "supplemental notebook to capture digressions and footnotes. Each section here is referenced in **golive**.\n",
    "\n"
   ]
  },
  {
   "cell_type": "markdown",
   "metadata": {},
   "source": [
    "## S1 Helper code\n",
    "\n",
    "It is possible to create and deploy Python packages (for example **numpy**) but a simpler *import* procedure\n",
    "is also available: A Python file **mycode.py** is placed in the same directory as the Jupyter notebook. It\n",
    "contains functions (methods) as in the cell below and these are accessed using the standard syntax\n",
    "\n",
    "```\n",
    "import mycode\n",
    "from mycode import ShowLocalImage\n",
    "```\n",
    "\n",
    "While this is preferable I am using a short cut of simply pasting a small code block at the top of the notebook\n",
    "that defines these methods for two reasons. First it avoids the clutter of copying around **mycode.py** files\n",
    "and second it provides me with some global variables without requiring that I learn more about Python classes. \n",
    "The underlying problem is one of time: To become a truly proficient Python programmer requires considerable \n",
    "dedication of time and this is in short supply.\n"
   ]
  },
  {
   "cell_type": "code",
   "execution_count": 58,
   "metadata": {},
   "outputs": [],
   "source": [
    "# Some Python utility code\n",
    "from pathlib import Path\n",
    "home_d = str(Path.home()) + '/'\n",
    "data_d = home_d + 'data/'             # A non-repository location for datasets of interest\n",
    "\n",
    "def dirobj(obj): return [x for x in dir(obj) if not x.startswith('_')]\n",
    "\n",
    "def lsal(path=''):\n",
    "    import os\n",
    "    return os.popen('ls -al ' + path).readlines()\n",
    "\n",
    "def ShowGitHubImage(username, repo, folder, source, localpath, localname, width, height):\n",
    "    global home_d\n",
    "    import requests, shutil\n",
    "    from PIL import Image\n",
    "    outf = localpath + '/' + localname\n",
    "    f = 'https://raw.githubusercontent.com/' + username + '/' + repo + '/master/' + folder + '/' + source\n",
    "    a = requests.get(f, stream = True)\n",
    "    if a.status_code == 200:\n",
    "        with open(outf, 'wb') as f:\n",
    "            a.raw.decode_content = True\n",
    "            shutil.copyfileobj(a.raw, f)\n",
    "    return Image.open(outf).resize((width,height),Image.ANTIALIAS)\n",
    "\n",
    "def ShowLocalImage(path, filename, width, height):\n",
    "    from PIL import Image\n",
    "    f = path + '/' + filename \n",
    "    return Image.open(f).resize((width,height),Image.ANTIALIAS)\n",
    "\n",
    "# Test either of the 'Show Image' functions\n",
    "# ShowGitHubImage('robfatland', 'othermathclub', 'images/cellular', 'conus_textile_shell_2.png', home_d, 'ctextile.jpg', 450, 250)\n",
    "# ShowLocalImage(home_d, 'ctextile.jpg', 450, 250)"
   ]
  },
  {
   "cell_type": "markdown",
   "metadata": {},
   "source": [
    "### Jupyter shortcuts\n",
    "\n",
    "\n",
    "[This blog post](https://www.dataquest.io/blog/jupyter-notebook-tips-tricks-shortcuts/) has some really useful shortcuts\n",
    "for operating Jupyter notebooks including the idea of an ESC escape mode:\n",
    "\n",
    "- a adds a cell above\n",
    "- b adds a cell below\n",
    "- m changes a selected cell to markdown\n",
    "- y changes a cell to code\n",
    "- d twice deletes the current cell\n",
    "- Shift + Tab will show you the Docstring (documentation) for the the object you have just typed in a code cell - you can keep pressing this short cut to cycle through a few modes of documentation\n",
    "- Ctrl Shift - will split the current cell into two from where your cursor is\n",
    "- f Find and replace on your code but not the outputs.\n",
    "- o Toggle cell output\n",
    "\n",
    "\n",
    "- Shift + J or Shift + down does multi-select downwards\n",
    "- Shift + K or Shift + up does upwards\n",
    "- Shift + M to merge"
   ]
  },
  {
   "cell_type": "markdown",
   "metadata": {},
   "source": [
    "## S2: Exploratory session on golive DataSets"
   ]
  },
  {
   "cell_type": "code",
   "execution_count": 13,
   "metadata": {},
   "outputs": [
    {
     "name": "stdout",
     "output_type": "stream",
     "text": [
      "m-list includes 9 datasets\n",
      "\n"
     ]
    }
   ],
   "source": [
    "# As in the golive notebook but across all results, not just 16-day-interval\n",
    "%matplotlib inline\n",
    "from matplotlib import pyplot as plt\n",
    "import pandas as pd\n",
    "import netCDF4\n",
    "import xarray as xr\n",
    "import numpy as np\n",
    "\n",
    "golive_d = data_d + 'golive/'\n",
    "fl = lsal(golive_d)\n",
    "fnc, fpng, ftif, dur, year, doy, m = [], [], [], [], [], [], []\n",
    "for x in fl:\n",
    "    sp = x.strip().split()    # file description line; filename is [8]\n",
    "    if len(sp) == 9:\n",
    "        if sp[8][-3:] == '.nc': \n",
    "            fnc.append(golive_d + sp[8])\n",
    "            dur.append(int(fnc[-1].split('_')[3]))\n",
    "            year.append(int(fnc[-1].split('_')[4]))\n",
    "            doy.append(int(fnc[-1].split('_')[5]))\n",
    "            m.append(xr.open_mfdataset(golive_d + sp[8]))\n",
    "        elif sp[8][-4:] == '.png': fpng.append(golive_d + sp[8])\n",
    "        elif sp[8][-4:] == '.tif': ftif.append(golive_d + sp[8])\n",
    "            \n",
    "print('m-list includes', len(m), 'datasets\\n')\n"
   ]
  },
  {
   "cell_type": "code",
   "execution_count": 52,
   "metadata": {},
   "outputs": [
    {
     "name": "stdout",
     "output_type": "stream",
     "text": [
      "<xarray.DataArray 'vx_masked' (y: 828, x: 819)>\n",
      "dask.array<shape=(828, 819), dtype=float32, chunksize=(828, 819)>\n",
      "Coordinates:\n",
      "  * x        (x) float64 3.331e+05 3.334e+05 3.337e+05 3.34e+05 3.343e+05 ...\n",
      "  * y        (y) float64 6.786e+06 6.785e+06 6.785e+06 6.785e+06 6.784e+06 ...\n",
      "Attributes:\n",
      "    grid_mapping:   transverse_mercator\n",
      "    standard_name:  x_velocity_masked\n",
      "    long_name:      x component of velocity (masked)\n",
      "    units:          m/d\n",
      "    masking_info:   masked_where(((del_corr_arr<0.100)&(corr_arr<1.000))|(cor...\n",
      "\n",
      "\n",
      "<xarray.DataArray 'x' (x: 819)>\n",
      "array([333142.5, 333442.5, 333742.5, ..., 577942.5, 578242.5, 578542.5])\n",
      "Coordinates:\n",
      "  * x        (x) float64 3.331e+05 3.334e+05 3.337e+05 3.34e+05 3.343e+05 ...\n",
      "Attributes:\n",
      "    standard_name:  projection_x_coordinate\n",
      "    long_name:      x coordinate of projection\n",
      "    units:          m\n",
      "\n",
      "\n",
      "2016-11-30T21:02:58.936365 : /projects/makl5454/bin/sc_pycorr_nc_oc_v5p8.py -img1dir /lustre/janus_scratch/makl5454/Landsat/ak_hp/p063_r018 -img2dir /lustre/janus_scratch/makl5454/Landsat/ak_hp/p063_r018 LC80630182014050LGN00_B8_hp.tif LC80630182014066LGN00_B8_hp.tif -inc 20 -half_source_chip 10 -trackvmax 15.000000 -plotvmax 15.0 -out_name_base ak_v02_S8_063_018_016_2014_050_2014_066 -log10 -dcam 0.1 -cam 1.0 -cam1 0.5 -output_dir /work/scambos_landsat/Landsat/GO_LIVE/ak_out/p063_r018 -VRT_dir /lustre/janus_scratch/makl5454/Landsat -no_speed_ref -offset_correction_lgo_mask -offset_correction_bilinear_fit -lgo_mask_file_dir /lustre/janus_scratch/makl5454/Landsat -lgo_mask_filename AK_ocean_land_glacier_210_mask_100m_Kienholz_v3.tif  ====> sc_pycorr run\n",
      "\n",
      "\n",
      "<xarray.DataArray 'processing_log' (chars: 4284)>\n",
      "dask.array<shape=(4284,), dtype=|S1, chunksize=(4284,)>\n",
      "Coordinates:\n",
      "  * chars    (chars) int32 0 1 2 3 4 5 6 7 8 9 10 11 12 13 14 15 16 17 18 19 ...\n",
      "Attributes:\n",
      "    standard_name:  sc_pycorr_process_log\n",
      "    long_name:      log from feature tracking processing\n",
      "\n",
      "\n",
      "sc_pycorr_process_log\n",
      "\n",
      "\n"
     ]
    }
   ],
   "source": [
    "print(m[0]['vx_masked'])\n",
    "print('\\n')\n",
    "# Identical: print(m[0].vx_masked)\n",
    "\n",
    "print(m[0].vx_masked.x)\n",
    "print('\\n')\n",
    "print(m[0].history)\n",
    "print('\\n')\n",
    "print(m[0].processing_log)\n",
    "print('\\n')\n",
    "print(m[0].processing_log.attrs['standard_name'])\n",
    "print('\\n')"
   ]
  },
  {
   "cell_type": "code",
   "execution_count": 53,
   "metadata": {},
   "outputs": [
    {
     "data": {
      "text/plain": [
       "\"# log from /projects/makl5454/bin/sc_pycorr_nc_oc_v5p8.py\\n/projects/makl5454/bin/sc_pycorr_nc_oc_v5p8.py -img1dir /lustre/janus_scratch/makl5454/Landsat/ak_hp/p063_r018 -img2dir /lustre/janus_scratch/makl5454/Landsat/ak_hp/p063_r018 LC80630182014050LGN00_B8_hp.tif LC80630182014066LGN00_B8_hp.tif -inc 20 -half_source_chip 10 -trackvmax 15.000000 -plotvmax 15.0 -out_name_base ak_v02_S8_063_018_016_2014_050_2014_066 -log10 -dcam 0.1 -cam 1.0 -cam1 0.5 -output_dir /work/scambos_landsat/Landsat/GO_LIVE/ak_out/p063_r018 -VRT_dir /lustre/janus_scratch/makl5454/Landsat -no_speed_ref -offset_correction_lgo_mask -offset_correction_bilinear_fit -lgo_mask_file_dir /lustre/janus_scratch/makl5454/Landsat -lgo_mask_filename AK_ocean_land_glacier_210_mask_100m_Kienholz_v3.tif\\nNamespace(Greenland=False, VRT_dir='/lustre/janus_scratch/makl5454/Landsat', bbox=None, cam=1.0, cam1=0.5, datestrfmt='%m/%d/%y', dcam=0.1, debug_tifs=False, half_source_chip=10, half_target_chip=40, img1_name='LC80630182014050LGN00_B8_hp.tif', img1datestr=None, img1dir='/lustre/janus_scratch/makl5454/Landsat/ak_hp/p063_r018', img2_name='LC80630182014066LGN00_B8_hp.tif', img2datestr=None, img2dir='/lustre/janus_scratch/makl5454/Landsat/ak_hp/p063_r018', imgdir='.', inc=20, lgo_mask_file_dir='/lustre/janus_scratch/makl5454/Landsat', lgo_mask_filename='AK_ocean_land_glacier_210_mask_100m_Kienholz_v3.tif', log10=True, max_allowable_pixel_offset_correction=3.0, mpy=False, nlf=False, no_speed_ref=True, nodatavmax=0.333, offset_correction_bilinear_fit=True, offset_correction_bilinear_fit_min_pixels=2000, offset_correction_lgo_mask=True, offset_correction_speedref=False, out_name_base='ak_v02_S8_063_018_016_2014_050_2014_066', output_dir='/work/scambos_landsat/Landsat/GO_LIVE/ak_out/p063_r018', plotvmax=15.0, progupdates=False, speed_ref_dir='/projects/makl5454', speed_ref_filename='LISA_750m_vv.tif', trackvmax=15.0, v=False)\\nUTC: 12/01/16_03:58:34  Wall:   0.004  Proc:   0.010 - Start Program\\n>>>> half_target_chip 40 pixels - maximum trackable velocity 28.125000 m/d (unless speed_ref at that location is lower, then it is 1.5 * (speed_ref_vel/pix_size_x_m) * del_t_days + 5 pixels) <<<<time separation in days: 16.000000 years: 0.043806 - using m/d\\n# got lgo mask data and reprojected to original L8 image local utm# lgo mask reference (lgo mask file: /lustre/janus_scratch/makl5454/Landsat/AK_ocean_land_glacier_210_mask_100m_Kienholz_v3.tif) from lgo mask vrt file: tmp3CR5G0lgo.vrt\\nUTC: 12/01/16_04:02:58  Wall: 263.973  Proc: 263.160 - Done with image to image correlation: 416178 correlations of 678132 possible\\nUTC: 12/01/16_04:02:58  Wall: 263.991  Proc: 263.170 - found lgo_mask (land pixel) offset correction (del_i: -0.000000 del_j: -0.000000 std_i 0.436644 std_j 0.553456) using 64801 pixels out of 88626 possible\\nUTC: 12/01/16_04:02:58  Wall: 264.155  Proc: 263.270 - using lgo_bilinear_masked_correction bilinear offset correction - constant offsets would have been -0.000000 pixels in i, -0.000000 pixels in j lgo_bilinear_masked_correction fields for i and j for land pixels, - using bilinear coefs_i [ -2.43355342e-01   7.92498207e-04   1.44520584e-04  -5.32063129e-07] coefs_j [  3.71111151e-01  -6.65638161e-04   5.16895948e-05  -1.82916670e-06] 64801 valid pixels out of 88626 possible for scene (73.117370 %)\\nout image /work/scambos_landsat/Landsat/GO_LIVE/ak_out/p063_r018/ak_v02_S8_063_018_016_2014_050_2014_066_log10.tif GTiff 819, 828, 4\\nadded  applied_bilinear_x_offset_correction_in_pixels to netCDF file 819, 828 added  applied_bilinear_y_offset_correction_in_pixels to netCDF file 819, 828 added  vx to netCDF file 819, 828 added  vy to netCDF file 819, 828 added  vv to netCDF file 819, 828 added  vx_masked to netCDF file 819, 828 added  vy_masked to netCDF file 819, 828 added  vv_masked to netCDF file 819, 828 added  corr to netCDF file 819, 828 added  del_corr to netCDF file 819, 828 added  lgo_mask to netCDF file 819, 828 added  d2idx2 to netCDF file 819, 828 added  d2jdx2 to netCDF file 819, 828 added  del_i to netCDF file 819, 828 added  del_j to netCDF file 819, 828 UTC: 12/01/16_04:02:59  Wall: 265.390  Proc: 264.360 - At end - resource module reports process ak_v02_S8_063_018_016_2014_050_2014_066 using   0.000 local   0.000 stack   1.632 max memory\\n\""
      ]
     },
     "execution_count": 53,
     "metadata": {},
     "output_type": "execute_result"
    }
   ],
   "source": [
    "# open question: What *is* the processing_log? It is an xarray DataArray. If you take .values\n",
    "#   you get a numpy.ndarray. So while this is not the best approach it does work to print the content...\n",
    "b = m[0].processing_log.values\n",
    "# print(type(b)) gives numpy.ndarray\n",
    "# print(chr(b[0][0])) gives '35'\n",
    "# print(len(b)) gives 4284 characters\n",
    "s = ''\n",
    "for i in range(len(b)): s = s + chr(b[i][0])\n",
    "s"
   ]
  },
  {
   "cell_type": "code",
   "execution_count": 57,
   "metadata": {},
   "outputs": [
    {
     "name": "stdout",
     "output_type": "stream",
     "text": [
      "<xarray.DataArray 'vv_masked' (y: 828, x: 819)>\n",
      "dask.array<shape=(828, 819), dtype=float32, chunksize=(828, 819)>\n",
      "Coordinates:\n",
      "  * x        (x) float64 3.331e+05 3.334e+05 3.337e+05 3.34e+05 3.343e+05 ...\n",
      "  * y        (y) float64 6.786e+06 6.785e+06 6.785e+06 6.785e+06 6.784e+06 ...\n",
      "Attributes:\n",
      "    grid_mapping:   transverse_mercator\n",
      "    standard_name:  speed_masked\n",
      "    long_name:      magnitude of velocity (masked)\n",
      "    units:          m/d\n",
      "    masking_info:   masked_where(((del_corr_arr<0.100)&(corr_arr<1.000))|(cor...\n",
      "\n",
      "\n",
      "OrderedDict([('GDAL_AREA_OR_POINT', 'Area'), ('Conventions', 'CF-1.6'), ('history', '2016-11-30T21:02:58.936365 : /projects/makl5454/bin/sc_pycorr_nc_oc_v5p8.py -img1dir /lustre/janus_scratch/makl5454/Landsat/ak_hp/p063_r018 -img2dir /lustre/janus_scratch/makl5454/Landsat/ak_hp/p063_r018 LC80630182014050LGN00_B8_hp.tif LC80630182014066LGN00_B8_hp.tif -inc 20 -half_source_chip 10 -trackvmax 15.000000 -plotvmax 15.0 -out_name_base ak_v02_S8_063_018_016_2014_050_2014_066 -log10 -dcam 0.1 -cam 1.0 -cam1 0.5 -output_dir /work/scambos_landsat/Landsat/GO_LIVE/ak_out/p063_r018 -VRT_dir /lustre/janus_scratch/makl5454/Landsat -no_speed_ref -offset_correction_lgo_mask -offset_correction_bilinear_fit -lgo_mask_file_dir /lustre/janus_scratch/makl5454/Landsat -lgo_mask_filename AK_ocean_land_glacier_210_mask_100m_Kienholz_v3.tif  ====> sc_pycorr run'), ('GDAL', 'GDAL 2.0.2, released 2016/01/26')])\n",
      "\n",
      "\n",
      "Coordinates:\n",
      "  * x        (x) float64 3.331e+05 3.334e+05 3.337e+05 3.34e+05 3.343e+05 ...\n",
      "  * y        (y) float64 6.786e+06 6.785e+06 6.785e+06 6.785e+06 6.784e+06 ...\n",
      "  * chars    (chars) int32 0 1 2 3 4 5 6 7 8 9 10 11 12 13 14 15 16 17 18 19 ...\n",
      "\n",
      "\n",
      "<xarray.DataArray 'vx_masked' (y: 828, x: 819)>\n",
      "dask.array<shape=(828, 819), dtype=float32, chunksize=(828, 819)>\n",
      "Coordinates:\n",
      "  * x        (x) float64 3.331e+05 3.334e+05 3.337e+05 3.34e+05 3.343e+05 ...\n",
      "  * y        (y) float64 6.786e+06 6.785e+06 6.785e+06 6.785e+06 6.784e+06 ...\n",
      "Attributes:\n",
      "    grid_mapping:   transverse_mercator\n",
      "    standard_name:  x_velocity_masked\n",
      "    long_name:      x component of velocity (masked)\n",
      "    units:          m/d\n",
      "    masking_info:   masked_where(((del_corr_arr<0.100)&(corr_arr<1.000))|(cor...\n",
      "\n",
      "\n",
      "[[nan nan nan ... nan nan nan]\n",
      " [nan nan nan ... nan nan nan]\n",
      " [nan nan nan ... nan nan nan]\n",
      " ...\n",
      " [nan nan nan ... nan nan nan]\n",
      " [nan nan nan ... nan nan nan]\n",
      " [nan nan nan ... nan nan nan]]\n"
     ]
    }
   ],
   "source": [
    "print(m[0].vv_masked)\n",
    "print('\\n')\n",
    "print(m[0].attrs)\n",
    "print('\\n')\n",
    "print(m[0].coords)\n",
    "print('\\n')\n",
    "print(m[0]['vx_masked'])\n",
    "print('\\n')\n",
    "print(m[0]['vv_masked'].values)\n",
    "\n",
    "# - The array is capable of truncating itself to give us a sense of what is there without printing *everything*\n",
    "# - There are a lot of not-a-number values in the speed field (notice the focus is on 'vv' which is speed)"
   ]
  },
  {
   "cell_type": "code",
   "execution_count": 64,
   "metadata": {},
   "outputs": [
    {
     "data": {
      "text/plain": [
       "array([[0.21738425, 0.3744488 ],\n",
       "       [0.2512998 , 0.27024233]], dtype=float32)"
      ]
     },
     "execution_count": 64,
     "metadata": {},
     "output_type": "execute_result"
    }
   ],
   "source": [
    "# Further proof that y comes first...\n",
    "m[0]['vv_masked'].dims\n",
    "\n",
    "# x is listed first by y comes first in referencing locations; and notice x increases west to east\n",
    "#   whereas y decreases north to south...\n",
    "m[0]['vv_masked'].coords\n",
    "\n",
    "m[0]['vv_masked'].name\n",
    "\n",
    "m[0]['vv_masked'].attrs\n",
    "\n",
    "# integer indices...\n",
    "#   m[0]['vv_masked'][a:b,c:d].values uses integers a, b, c, d to print a matrix of speeds, as in...\n",
    "a = 249        # the y values, indexing north to south decreasing numerical (see image above)\n",
    "b = 251        #   and this corresponds to increasing index\n",
    "c = 749        # the x values, indexing west to east increasing numerical\n",
    "d = 751        #   and this corresponds to increasing index\n",
    "m[0]['vv_masked'][a:b,c:d].values"
   ]
  },
  {
   "cell_type": "code",
   "execution_count": 65,
   "metadata": {},
   "outputs": [
    {
     "name": "stdout",
     "output_type": "stream",
     "text": [
      "Coordinates:\n",
      "    x        float64 5.281e+05\n",
      "    y        float64 6.638e+06\n",
      "[[      nan       nan       nan       nan       nan]\n",
      " [      nan       nan       nan       nan       nan]\n",
      " [      nan       nan       nan       nan       nan]\n",
      " [      nan       nan       nan 18.035414       nan]\n",
      " [      nan       nan       nan       nan       nan]\n",
      " [      nan       nan       nan       nan       nan]]\n"
     ]
    }
   ],
   "source": [
    "# But integer indexing is very much against the spirit of the process\n",
    "# Here is a bit more; this needs tidying up\n",
    "# y 493\n",
    "# x 650\n",
    "a=m[0]['vv_masked'][493,650]\n",
    "print(a.coords)\n",
    "\n",
    "# Demonstrating an anomalous (18 meter per day) speed in the midst of nans\n",
    "a=m[0]['vv_masked'].isel(y=slice(490,496),x=slice(647,652))\n",
    "print(a.values)"
   ]
  },
  {
   "cell_type": "code",
   "execution_count": 66,
   "metadata": {},
   "outputs": [
    {
     "name": "stdout",
     "output_type": "stream",
     "text": [
      "meters per day\n"
     ]
    }
   ],
   "source": [
    "# print(type(m[0].vv_masked)) gives same\n",
    "speed = m[2].vv_masked\n",
    "# print(type(speed)) gives DataArray\n",
    "# print(speed.attrs)    # maps units to 'm/d'\n",
    "speed.attrs['units']='meters per day'\n",
    "print(speed.attrs['units'])    # units is now 'meters per day'\n"
   ]
  },
  {
   "cell_type": "markdown",
   "metadata": {},
   "source": [
    "## S3: directory() "
   ]
  },
  {
   "cell_type": "code",
   "execution_count": 63,
   "metadata": {
    "scrolled": false
   },
   "outputs": [
    {
     "name": "stdout",
     "output_type": "stream",
     "text": [
      "<class 'xarray.core.dataarray.DataArray'>\n"
     ]
    },
    {
     "data": {
      "text/plain": [
       "['T',\n",
       " 'all',\n",
       " 'any',\n",
       " 'argmax',\n",
       " 'argmin',\n",
       " 'argsort',\n",
       " 'assign_attrs',\n",
       " 'assign_coords',\n",
       " 'astype',\n",
       " 'attrs',\n",
       " 'bfill',\n",
       " 'broadcast_equals',\n",
       " 'chunk',\n",
       " 'chunks',\n",
       " 'clip',\n",
       " 'close',\n",
       " 'combine_first',\n",
       " 'compute',\n",
       " 'conj',\n",
       " 'conjugate',\n",
       " 'coords',\n",
       " 'copy',\n",
       " 'count',\n",
       " 'cumprod',\n",
       " 'cumsum',\n",
       " 'data',\n",
       " 'diff',\n",
       " 'dims',\n",
       " 'dot',\n",
       " 'drop',\n",
       " 'dropna',\n",
       " 'dt',\n",
       " 'dtype',\n",
       " 'encoding',\n",
       " 'equals',\n",
       " 'expand_dims',\n",
       " 'ffill',\n",
       " 'fillna',\n",
       " 'from_cdms2',\n",
       " 'from_dict',\n",
       " 'from_iris',\n",
       " 'from_series',\n",
       " 'get_axis_num',\n",
       " 'get_index',\n",
       " 'grid_mapping',\n",
       " 'groupby',\n",
       " 'groupby_bins',\n",
       " 'identical',\n",
       " 'imag',\n",
       " 'indexes',\n",
       " 'interp',\n",
       " 'interp_like',\n",
       " 'interpolate_na',\n",
       " 'isel',\n",
       " 'isel_points',\n",
       " 'isin',\n",
       " 'isnull',\n",
       " 'item',\n",
       " 'load',\n",
       " 'loc',\n",
       " 'long_name',\n",
       " 'masking_info',\n",
       " 'max',\n",
       " 'mean',\n",
       " 'median',\n",
       " 'min',\n",
       " 'name',\n",
       " 'nbytes',\n",
       " 'ndim',\n",
       " 'notnull',\n",
       " 'persist',\n",
       " 'pipe',\n",
       " 'plot',\n",
       " 'prod',\n",
       " 'quantile',\n",
       " 'rank',\n",
       " 'real',\n",
       " 'reduce',\n",
       " 'reindex',\n",
       " 'reindex_like',\n",
       " 'rename',\n",
       " 'reorder_levels',\n",
       " 'resample',\n",
       " 'reset_coords',\n",
       " 'reset_index',\n",
       " 'roll',\n",
       " 'rolling',\n",
       " 'round',\n",
       " 'searchsorted',\n",
       " 'sel',\n",
       " 'sel_points',\n",
       " 'set_index',\n",
       " 'shape',\n",
       " 'shift',\n",
       " 'size',\n",
       " 'sizes',\n",
       " 'sortby',\n",
       " 'squeeze',\n",
       " 'stack',\n",
       " 'standard_name',\n",
       " 'std',\n",
       " 'sum',\n",
       " 'swap_dims',\n",
       " 'to_cdms2',\n",
       " 'to_dataframe',\n",
       " 'to_dataset',\n",
       " 'to_dict',\n",
       " 'to_index',\n",
       " 'to_iris',\n",
       " 'to_masked_array',\n",
       " 'to_netcdf',\n",
       " 'to_pandas',\n",
       " 'to_series',\n",
       " 'transpose',\n",
       " 'units',\n",
       " 'unstack',\n",
       " 'values',\n",
       " 'var',\n",
       " 'variable',\n",
       " 'where',\n",
       " 'x',\n",
       " 'y']"
      ]
     },
     "execution_count": 63,
     "metadata": {},
     "output_type": "execute_result"
    }
   ],
   "source": [
    "# For a sense of how much functionality is built into a DataArray\n",
    "print(type(m[0].vv_masked))\n",
    "dirobj(m[0]['vv_masked'])"
   ]
  },
  {
   "cell_type": "markdown",
   "metadata": {},
   "source": [
    "## S4: Colorbar manufacture"
   ]
  },
  {
   "cell_type": "code",
   "execution_count": 67,
   "metadata": {},
   "outputs": [
    {
     "data": {
      "image/png": "[encoded data removed]",
      "text/plain": [
       "<Figure size 432x648 with 8 Axes>"
      ]
     },
     "metadata": {},
     "output_type": "display_data"
    }
   ],
   "source": [
    "# For plotting see http://xarray.pydata.org/en/stable/plotting.html\n",
    "\n",
    "from matplotlib.colors import LinearSegmentedColormap\n",
    "x = np.arange(0, np.pi, 0.1)\n",
    "y = np.arange(0, 2*np.pi, 0.1)\n",
    "X, Y = np.meshgrid(x, y)\n",
    "Z = np.cos(X) * np.sin(Y) * 10\n",
    "colors = [(1, 0, 0), (0, 1, 0), (0, 0, 1)]  # R -> G -> B\n",
    "n_bins = [3, 6, 10, 100]  # Discretizes the interpolation into bins\n",
    "cmap_name = 'my_list'\n",
    "fig, axs = plt.subplots(2, 2, figsize=(6, 9))\n",
    "fig.subplots_adjust(left=0.02, bottom=0.06, right=0.95, top=0.94, wspace=0.05)\n",
    "for n_bin, ax in zip(n_bins, axs.ravel()):\n",
    "    # Create the colormap\n",
    "    cm = LinearSegmentedColormap.from_list(\n",
    "        cmap_name, colors, N=n_bin)\n",
    "    # Fewer bins will result in \"coarser\" colomap interpolation\n",
    "    im = ax.imshow(Z, interpolation='nearest', origin='lower', cmap=cm)\n",
    "    ax.set_title(\"N bins: %s\" % n_bin)\n",
    "    fig.colorbar(im, ax=ax)\n"
   ]
  },
  {
   "cell_type": "code",
   "execution_count": null,
   "metadata": {},
   "outputs": [],
   "source": []
  }
 ],
 "metadata": {
  "kernelspec": {
   "display_name": "Python [conda root]",
   "language": "python",
   "name": "conda-root-py"
  },
  "language_info": {
   "codemirror_mode": {
    "name": "ipython",
    "version": 3
   },
   "file_extension": ".py",
   "mimetype": "text/x-python",
   "name": "python",
   "nbconvert_exporter": "python",
   "pygments_lexer": "ipython3",
   "version": "3.6.6"
  }
 },
 "nbformat": 4,
 "nbformat_minor": 2
}
